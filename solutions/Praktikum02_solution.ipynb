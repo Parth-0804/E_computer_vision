{
 "cells": [
  {
   "cell_type": "code",
   "execution_count": 1,
   "metadata": {
    "tags": []
   },
   "outputs": [],
   "source": [
    "#install opencv library\n",
    "#pip install opencv-python"
   ]
  },
  {
   "cell_type": "code",
   "execution_count": 2,
   "metadata": {
    "tags": []
   },
   "outputs": [],
   "source": [
    "#include the relevant libraries\n",
    "import numpy as np\n",
    "import cv2 as cv\n",
    "import glob\n",
    "import os\n",
    "import matplotlib.pyplot as plt"
   ]
  },
  {
   "cell_type": "code",
   "execution_count": 3,
   "metadata": {
    "tags": []
   },
   "outputs": [],
   "source": [
    "# Set path to protein images - Please change the path to the location of the folder named images on your system\n",
    "path = \"images/\""
   ]
  },
  {
   "cell_type": "code",
   "execution_count": 4,
   "metadata": {
    "tags": []
   },
   "outputs": [
    {
     "data": {
      "text/plain": [
       "[None, None, None, None, None, None, None, None, None, None, None, None]"
      ]
     },
     "execution_count": 4,
     "metadata": {},
     "output_type": "execute_result"
    }
   ],
   "source": [
    "# Get all image names\n",
    "imageNames = []\n",
    "# Format is ['20_B5_1_green.jpg', ...]\n",
    "[imageNames.append(filename) for filename in glob.glob(path+\"*.jpg\")]"
   ]
  },
  {
   "cell_type": "code",
   "execution_count": 5,
   "metadata": {
    "tags": []
   },
   "outputs": [
    {
     "name": "stdout",
     "output_type": "stream",
     "text": [
      "images/21_B5_2_green.jpg\n"
     ]
    }
   ],
   "source": [
    "#test if the images are found\n",
    "print(imageNames[0])"
   ]
  },
  {
   "cell_type": "code",
   "execution_count": 6,
   "metadata": {
    "tags": []
   },
   "outputs": [
    {
     "name": "stdout",
     "output_type": "stream",
     "text": [
      "['images/21_B5_2_green.jpg', 'images/20_B5_2_green.jpg', 'images/22_B5_1_green.jpg', 'images/21_B5_1_green.jpg', 'images/504_A4_1_green.jpg', 'images/506_A4_2_green.jpg', 'images/504_A4_3_green.jpg', 'images/555_A4_2_green.jpg', 'images/22_B5_2_green.jpg', 'images/555_A4_1_green.jpg', 'images/506_A4_3_green.jpg', 'images/20_B5_1_green.jpg']\n"
     ]
    }
   ],
   "source": [
    "# Print all the image names\n",
    "print(imageNames)"
   ]
  },
  {
   "cell_type": "code",
   "execution_count": 7,
   "metadata": {
    "tags": []
   },
   "outputs": [],
   "source": [
    "# Create subfolders for images of type A and of type B\n",
    "try:\n",
    "    os.mkdir(path+'saved_images/')\n",
    "    os.mkdir(path+'saved_images/A')\n",
    "    os.mkdir(path+'saved_images/B')\n",
    "except OSError as error:\n",
    "    print(error)\n",
    "#os.mkdir(path+'saved_images/')"
   ]
  },
  {
   "cell_type": "code",
   "execution_count": 8,
   "metadata": {
    "tags": []
   },
   "outputs": [
    {
     "name": "stdout",
     "output_type": "stream",
     "text": [
      "Number of protein contours found = 11\n",
      "images/saved_images/B/prot1_21_B5_2_green.jpg\n",
      "images/saved_images/B/prot2_21_B5_2_green.jpg\n",
      "images/saved_images/B/prot3_21_B5_2_green.jpg\n",
      "images/saved_images/B/prot4_21_B5_2_green.jpg\n",
      "images/saved_images/B/prot5_21_B5_2_green.jpg\n",
      "images/saved_images/B/prot6_21_B5_2_green.jpg\n",
      "images/saved_images/B/prot7_21_B5_2_green.jpg\n",
      "images/saved_images/B/prot8_21_B5_2_green.jpg\n",
      "images/saved_images/B/prot9_21_B5_2_green.jpg\n",
      "images/saved_images/B/prot10_21_B5_2_green.jpg\n",
      "images/saved_images/B/prot11_21_B5_2_green.jpg\n",
      "Number of protein contours found = 12\n",
      "images/saved_images/B/prot1_20_B5_2_green.jpg\n",
      "images/saved_images/B/prot2_20_B5_2_green.jpg\n",
      "images/saved_images/B/prot3_20_B5_2_green.jpg\n",
      "images/saved_images/B/prot4_20_B5_2_green.jpg\n",
      "images/saved_images/B/prot5_20_B5_2_green.jpg\n",
      "images/saved_images/B/prot6_20_B5_2_green.jpg\n",
      "images/saved_images/B/prot7_20_B5_2_green.jpg\n",
      "images/saved_images/B/prot8_20_B5_2_green.jpg\n",
      "images/saved_images/B/prot9_20_B5_2_green.jpg\n",
      "images/saved_images/B/prot10_20_B5_2_green.jpg\n",
      "images/saved_images/B/prot11_20_B5_2_green.jpg\n",
      "images/saved_images/B/prot12_20_B5_2_green.jpg\n",
      "Number of protein contours found = 9\n",
      "images/saved_images/B/prot1_22_B5_1_green.jpg\n",
      "images/saved_images/B/prot2_22_B5_1_green.jpg\n",
      "images/saved_images/B/prot3_22_B5_1_green.jpg\n",
      "images/saved_images/B/prot4_22_B5_1_green.jpg\n",
      "images/saved_images/B/prot5_22_B5_1_green.jpg\n",
      "images/saved_images/B/prot6_22_B5_1_green.jpg\n",
      "images/saved_images/B/prot7_22_B5_1_green.jpg\n",
      "images/saved_images/B/prot8_22_B5_1_green.jpg\n",
      "images/saved_images/B/prot9_22_B5_1_green.jpg\n",
      "Number of protein contours found = 12\n",
      "images/saved_images/B/prot1_21_B5_1_green.jpg\n",
      "images/saved_images/B/prot2_21_B5_1_green.jpg\n",
      "images/saved_images/B/prot3_21_B5_1_green.jpg\n",
      "images/saved_images/B/prot4_21_B5_1_green.jpg\n",
      "images/saved_images/B/prot5_21_B5_1_green.jpg\n",
      "images/saved_images/B/prot6_21_B5_1_green.jpg\n",
      "images/saved_images/B/prot7_21_B5_1_green.jpg\n",
      "images/saved_images/B/prot8_21_B5_1_green.jpg\n",
      "images/saved_images/B/prot9_21_B5_1_green.jpg\n",
      "images/saved_images/B/prot10_21_B5_1_green.jpg\n",
      "images/saved_images/B/prot11_21_B5_1_green.jpg\n",
      "images/saved_images/B/prot12_21_B5_1_green.jpg\n",
      "Number of protein contours found = 8\n",
      "Writingimages/saved_images/A/prot1_504_A4_1_green.jpg\n",
      "Writingimages/saved_images/A/prot2_504_A4_1_green.jpg\n",
      "Writingimages/saved_images/A/prot3_504_A4_1_green.jpg\n",
      "Writingimages/saved_images/A/prot4_504_A4_1_green.jpg\n",
      "Writingimages/saved_images/A/prot5_504_A4_1_green.jpg\n",
      "Writingimages/saved_images/A/prot6_504_A4_1_green.jpg\n",
      "Writingimages/saved_images/A/prot7_504_A4_1_green.jpg\n",
      "Writingimages/saved_images/A/prot8_504_A4_1_green.jpg\n",
      "Number of protein contours found = 17\n",
      "Writingimages/saved_images/A/prot1_506_A4_2_green.jpg\n",
      "Writingimages/saved_images/A/prot2_506_A4_2_green.jpg\n",
      "Writingimages/saved_images/A/prot3_506_A4_2_green.jpg\n",
      "Writingimages/saved_images/A/prot4_506_A4_2_green.jpg\n",
      "Writingimages/saved_images/A/prot5_506_A4_2_green.jpg\n",
      "Writingimages/saved_images/A/prot6_506_A4_2_green.jpg\n",
      "Writingimages/saved_images/A/prot7_506_A4_2_green.jpg\n",
      "Writingimages/saved_images/A/prot8_506_A4_2_green.jpg\n",
      "Writingimages/saved_images/A/prot9_506_A4_2_green.jpg\n",
      "Writingimages/saved_images/A/prot10_506_A4_2_green.jpg\n",
      "Writingimages/saved_images/A/prot11_506_A4_2_green.jpg\n",
      "Writingimages/saved_images/A/prot12_506_A4_2_green.jpg\n",
      "Writingimages/saved_images/A/prot13_506_A4_2_green.jpg\n",
      "Writingimages/saved_images/A/prot14_506_A4_2_green.jpg\n",
      "Writingimages/saved_images/A/prot15_506_A4_2_green.jpg\n",
      "Writingimages/saved_images/A/prot16_506_A4_2_green.jpg\n",
      "Writingimages/saved_images/A/prot17_506_A4_2_green.jpg\n",
      "Number of protein contours found = 24\n",
      "Writingimages/saved_images/A/prot1_504_A4_3_green.jpg\n",
      "Writingimages/saved_images/A/prot2_504_A4_3_green.jpg\n",
      "Writingimages/saved_images/A/prot3_504_A4_3_green.jpg\n",
      "Writingimages/saved_images/A/prot4_504_A4_3_green.jpg\n",
      "Writingimages/saved_images/A/prot5_504_A4_3_green.jpg\n",
      "Writingimages/saved_images/A/prot6_504_A4_3_green.jpg\n",
      "Writingimages/saved_images/A/prot7_504_A4_3_green.jpg\n",
      "Writingimages/saved_images/A/prot8_504_A4_3_green.jpg\n",
      "Writingimages/saved_images/A/prot9_504_A4_3_green.jpg\n",
      "Writingimages/saved_images/A/prot10_504_A4_3_green.jpg\n",
      "Writingimages/saved_images/A/prot11_504_A4_3_green.jpg\n",
      "Writingimages/saved_images/A/prot12_504_A4_3_green.jpg\n",
      "Writingimages/saved_images/A/prot13_504_A4_3_green.jpg\n",
      "Writingimages/saved_images/A/prot14_504_A4_3_green.jpg\n",
      "Writingimages/saved_images/A/prot15_504_A4_3_green.jpg\n",
      "Writingimages/saved_images/A/prot16_504_A4_3_green.jpg\n",
      "Writingimages/saved_images/A/prot17_504_A4_3_green.jpg\n",
      "Writingimages/saved_images/A/prot18_504_A4_3_green.jpg\n",
      "Writingimages/saved_images/A/prot19_504_A4_3_green.jpg\n",
      "Writingimages/saved_images/A/prot20_504_A4_3_green.jpg\n",
      "Writingimages/saved_images/A/prot21_504_A4_3_green.jpg\n",
      "Writingimages/saved_images/A/prot22_504_A4_3_green.jpg\n",
      "Writingimages/saved_images/A/prot23_504_A4_3_green.jpg\n",
      "Writingimages/saved_images/A/prot24_504_A4_3_green.jpg\n",
      "Number of protein contours found = 15\n",
      "Writingimages/saved_images/A/prot1_555_A4_2_green.jpg\n",
      "Writingimages/saved_images/A/prot2_555_A4_2_green.jpg\n",
      "Writingimages/saved_images/A/prot3_555_A4_2_green.jpg\n",
      "Writingimages/saved_images/A/prot4_555_A4_2_green.jpg\n",
      "Writingimages/saved_images/A/prot5_555_A4_2_green.jpg\n",
      "Writingimages/saved_images/A/prot6_555_A4_2_green.jpg\n",
      "Writingimages/saved_images/A/prot7_555_A4_2_green.jpg\n",
      "Writingimages/saved_images/A/prot8_555_A4_2_green.jpg\n",
      "Writingimages/saved_images/A/prot9_555_A4_2_green.jpg\n",
      "Writingimages/saved_images/A/prot10_555_A4_2_green.jpg\n",
      "Writingimages/saved_images/A/prot11_555_A4_2_green.jpg\n",
      "Writingimages/saved_images/A/prot12_555_A4_2_green.jpg\n",
      "Writingimages/saved_images/A/prot13_555_A4_2_green.jpg\n",
      "Writingimages/saved_images/A/prot14_555_A4_2_green.jpg\n",
      "Writingimages/saved_images/A/prot15_555_A4_2_green.jpg\n",
      "Number of protein contours found = 8\n",
      "images/saved_images/B/prot1_22_B5_2_green.jpg\n",
      "images/saved_images/B/prot2_22_B5_2_green.jpg\n",
      "images/saved_images/B/prot3_22_B5_2_green.jpg\n",
      "images/saved_images/B/prot4_22_B5_2_green.jpg\n",
      "images/saved_images/B/prot5_22_B5_2_green.jpg\n",
      "images/saved_images/B/prot6_22_B5_2_green.jpg\n",
      "images/saved_images/B/prot7_22_B5_2_green.jpg\n",
      "images/saved_images/B/prot8_22_B5_2_green.jpg\n",
      "Number of protein contours found = 10\n",
      "Writingimages/saved_images/A/prot1_555_A4_1_green.jpg\n",
      "Writingimages/saved_images/A/prot2_555_A4_1_green.jpg\n",
      "Writingimages/saved_images/A/prot3_555_A4_1_green.jpg\n",
      "Writingimages/saved_images/A/prot4_555_A4_1_green.jpg\n",
      "Writingimages/saved_images/A/prot5_555_A4_1_green.jpg\n",
      "Writingimages/saved_images/A/prot6_555_A4_1_green.jpg\n",
      "Writingimages/saved_images/A/prot7_555_A4_1_green.jpg\n",
      "Writingimages/saved_images/A/prot8_555_A4_1_green.jpg\n",
      "Writingimages/saved_images/A/prot9_555_A4_1_green.jpg\n",
      "Writingimages/saved_images/A/prot10_555_A4_1_green.jpg\n",
      "Number of protein contours found = 23\n",
      "Writingimages/saved_images/A/prot1_506_A4_3_green.jpg\n",
      "Writingimages/saved_images/A/prot2_506_A4_3_green.jpg\n",
      "Writingimages/saved_images/A/prot3_506_A4_3_green.jpg\n",
      "Writingimages/saved_images/A/prot4_506_A4_3_green.jpg\n",
      "Writingimages/saved_images/A/prot5_506_A4_3_green.jpg\n",
      "Writingimages/saved_images/A/prot6_506_A4_3_green.jpg\n",
      "Writingimages/saved_images/A/prot7_506_A4_3_green.jpg\n",
      "Writingimages/saved_images/A/prot8_506_A4_3_green.jpg\n",
      "Writingimages/saved_images/A/prot9_506_A4_3_green.jpg\n",
      "Writingimages/saved_images/A/prot10_506_A4_3_green.jpg\n",
      "Writingimages/saved_images/A/prot11_506_A4_3_green.jpg\n",
      "Writingimages/saved_images/A/prot12_506_A4_3_green.jpg\n",
      "Writingimages/saved_images/A/prot13_506_A4_3_green.jpg\n",
      "Writingimages/saved_images/A/prot14_506_A4_3_green.jpg\n",
      "Writingimages/saved_images/A/prot15_506_A4_3_green.jpg\n",
      "Writingimages/saved_images/A/prot16_506_A4_3_green.jpg\n",
      "Writingimages/saved_images/A/prot17_506_A4_3_green.jpg\n",
      "Writingimages/saved_images/A/prot18_506_A4_3_green.jpg\n",
      "Writingimages/saved_images/A/prot19_506_A4_3_green.jpg\n",
      "Writingimages/saved_images/A/prot20_506_A4_3_green.jpg\n",
      "Writingimages/saved_images/A/prot21_506_A4_3_green.jpg\n",
      "Writingimages/saved_images/A/prot22_506_A4_3_green.jpg\n",
      "Writingimages/saved_images/A/prot23_506_A4_3_green.jpg\n",
      "Number of protein contours found = 10\n",
      "images/saved_images/B/prot1_20_B5_1_green.jpg\n",
      "images/saved_images/B/prot2_20_B5_1_green.jpg\n",
      "images/saved_images/B/prot3_20_B5_1_green.jpg\n",
      "images/saved_images/B/prot4_20_B5_1_green.jpg\n",
      "images/saved_images/B/prot5_20_B5_1_green.jpg\n",
      "images/saved_images/B/prot6_20_B5_1_green.jpg\n",
      "images/saved_images/B/prot7_20_B5_1_green.jpg\n",
      "images/saved_images/B/prot8_20_B5_1_green.jpg\n",
      "images/saved_images/B/prot9_20_B5_1_green.jpg\n",
      "images/saved_images/B/prot10_20_B5_1_green.jpg\n"
     ]
    }
   ],
   "source": [
    "# Loop over all images and segment proteins: please extend\n",
    "for imageName in imageNames:\n",
    "    imageProt = cv.imread(imageName)\n",
    "    cv.destroyAllWindows()\n",
    "    # Convert to grayscale\n",
    "    imageProtGray = cv.cvtColor(imageProt, cv.COLOR_BGR2GRAY)\n",
    "    # Treshold image to binary\n",
    "    tresholdValue = 1.5 * np.mean(imageProtGray)\n",
    "    ret, grayTresh = cv.threshold(imageProtGray, tresholdValue, 255,\n",
    "                                  cv.THRESH_BINARY)\n",
    "    ## Segment image\n",
    "    filterSize = 3\n",
    "    kernel = np.ones((filterSize,filterSize), np.uint8)\n",
    "    # Operate closing to fill holes\n",
    "    grayTreshMorph = grayTresh\n",
    "    grayTreshMorph = cv.morphologyEx(grayTresh,\n",
    "                                     cv.MORPH_CLOSE, kernel)\n",
    "\n",
    "    # Get contours\n",
    "    contours, hierarchy = cv.findContours(grayTreshMorph,\n",
    "                                         cv.RETR_TREE, cv.CHAIN_APPROX_SIMPLE)\n",
    "    # Get largest contours\n",
    "    proteinContours = []\n",
    "    # Loop over all contours\n",
    "    for cnt in contours:\n",
    "        area = cv.contourArea(cnt)\n",
    "        # Discard small contours\n",
    "        if area < 10000:\n",
    "            continue\n",
    "        # Add contour\n",
    "        proteinContours.append(cnt)\n",
    "\n",
    "    # Display number of protein contours found\n",
    "    print(\"Number of protein contours found = \" + str(len(proteinContours)))\n",
    "    #generate image with zero background\n",
    "    imageProt = np.zeros(imageProt.shape, np.uint8)\n",
    "    #draw contours and fill the masks\n",
    "    imageProt = cv.drawContours(imageProt, proteinContours, -1, (255,255,255), -1)\n",
    "    # Loop over all protein contours to save each protein in 500x500 image\n",
    "    \n",
    "    \n",
    "    proteinNr = 0\n",
    "    for c in proteinContours:\n",
    "        proteinNr += 1\n",
    "        # Get center of contour\n",
    "        M = cv.moments(c)\n",
    "        cX = int(M[\"m10\"] / M[\"m00\"])\n",
    "        cY = int(M[\"m01\"] / M[\"m00\"])\n",
    "\n",
    "        \n",
    "        \n",
    "        # Add black border to image\n",
    "        padding = 250\n",
    "        # Crop image for each protein found: 500x500x3 jpg\n",
    "        imageProtPadded = cv.copyMakeBorder(imageProt, padding, padding,\n",
    "                                            padding, padding,\n",
    "                                            cv.BORDER_CONSTANT, value=[0, 0, 0])\n",
    "       \n",
    "        # Crop image\n",
    "        imgSize = 500\n",
    "        croppedImg = imageProtPadded[cY-int(imgSize/2)+padding:\n",
    "                                     cY+int(imgSize/2)+padding,\n",
    "                                     cX-int(imgSize/2)+padding:\n",
    "                                     cX+int(imgSize/2)+padding]\n",
    "        \n",
    "        # Save cropped protein images\n",
    "        imageNameFile = imageName.split('/')[-1]\n",
    "        if imageName[-14] == 'A':\n",
    "            print('Writing' + path + 'saved_images/A/' +\n",
    "                       'prot' + str(proteinNr) + '_' +imageNameFile)\n",
    "            cv.imwrite(path + 'saved_images/A/' +\n",
    "                       'prot' + str(proteinNr) + '_' + imageNameFile, croppedImg)\n",
    "        elif imageName[-14] == 'B':\n",
    "            print(path + 'saved_images/B/' +\n",
    "                       'prot' + str(proteinNr) + '_' + imageNameFile)\n",
    "            cv.imwrite(path + 'saved_images/B/' +\n",
    "                       'prot' + str(proteinNr) + '_' + imageNameFile, croppedImg)\n",
    "        else:\n",
    "            print('Could not determine class for image ', imageNameFile)\n",
    "            continue\n",
    "\n"
   ]
  },
  {
   "cell_type": "code",
   "execution_count": 9,
   "metadata": {
    "tags": []
   },
   "outputs": [
    {
     "data": {
      "text/plain": [
       "<matplotlib.image.AxesImage at 0x7f4f5d86c4c0>"
      ]
     },
     "execution_count": 9,
     "metadata": {},
     "output_type": "execute_result"
    },
    {
     "data": {
      "image/png": "[encoded data removed]",
      "text/plain": [
       "<Figure size 640x480 with 1 Axes>"
      ]
     },
     "metadata": {},
     "output_type": "display_data"
    }
   ],
   "source": [
    "plt.imshow(croppedImg)"
   ]
  },
  {
   "cell_type": "code",
   "execution_count": null,
   "metadata": {},
   "outputs": [],
   "source": []
  }
 ],
 "metadata": {
  "kernelspec": {
   "display_name": "Python 3 (ipykernel)",
   "language": "python",
   "name": "python3"
  },
  "language_info": {
   "codemirror_mode": {
    "name": "ipython",
    "version": 3
   },
   "file_extension": ".py",
   "mimetype": "text/x-python",
   "name": "python",
   "nbconvert_exporter": "python",
   "pygments_lexer": "ipython3",
   "version": "3.10.9"
  }
 },
 "nbformat": 4,
 "nbformat_minor": 4
}
