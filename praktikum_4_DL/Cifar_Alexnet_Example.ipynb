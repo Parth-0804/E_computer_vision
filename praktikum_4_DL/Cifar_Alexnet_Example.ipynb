{
 "cells": [
  {
   "cell_type": "markdown",
   "id": "2dec014a-5e15-40ae-9f0e-8d63cd1d8b3d",
   "metadata": {},
   "source": [
    "## Example from:\n",
    "https://analyticsindiamag.com/hands-on-guide-to-implementing-alexnet-with-keras-for-multi-class-image-classification/"
   ]
  },
  {
   "cell_type": "code",
   "execution_count": 4,
   "id": "12ae48d1-5f4f-4f98-b3b6-9aaad01c7d2f",
   "metadata": {},
   "outputs": [],
   "source": [
    "#Importing library\n",
    "import keras\n",
    "from keras.models import Sequential\n",
    "from keras.layers import Dense, Activation, Dropout, Flatten, Conv2D, MaxPooling2D\n",
    "from keras.layers import BatchNormalization\n",
    "import numpy as np"
   ]
  },
  {
   "cell_type": "code",
   "execution_count": 5,
   "id": "40bcf8c4-8320-41fe-85b2-0bdb54013f6a",
   "metadata": {},
   "outputs": [],
   "source": [
    "np.random.seed(1000)"
   ]
  },
  {
   "cell_type": "code",
   "execution_count": 6,
   "id": "468ecd2a-fb85-4585-8054-669154f61a4a",
   "metadata": {},
   "outputs": [
    {
     "name": "stderr",
     "output_type": "stream",
     "text": [
      "2022-04-27 12:39:31.430376: W tensorflow/stream_executor/platform/default/dso_loader.cc:64] Could not load dynamic library 'libcuda.so.1'; dlerror: libcuda.so.1: cannot open shared object file: No such file or directory\n",
      "2022-04-27 12:39:31.430421: W tensorflow/stream_executor/cuda/cuda_driver.cc:269] failed call to cuInit: UNKNOWN ERROR (303)\n",
      "2022-04-27 12:39:31.430448: I tensorflow/stream_executor/cuda/cuda_diagnostics.cc:156] kernel driver does not appear to be running on this host (jupyter-tema): /proc/driver/nvidia/version does not exist\n",
      "2022-04-27 12:39:31.430748: I tensorflow/core/platform/cpu_feature_guard.cc:142] This TensorFlow binary is optimized with oneAPI Deep Neural Network Library (oneDNN) to use the following CPU instructions in performance-critical operations:  SSE4.1 SSE4.2 AVX AVX2 FMA\n",
      "To enable them in other operations, rebuild TensorFlow with the appropriate compiler flags.\n"
     ]
    },
    {
     "name": "stdout",
     "output_type": "stream",
     "text": [
      "Model: \"sequential\"\n",
      "_________________________________________________________________\n",
      "Layer (type)                 Output Shape              Param #   \n",
      "=================================================================\n",
      "conv2d (Conv2D)              (None, 8, 8, 96)          34944     \n",
      "_________________________________________________________________\n",
      "batch_normalization (BatchNo (None, 8, 8, 96)          384       \n",
      "_________________________________________________________________\n",
      "activation (Activation)      (None, 8, 8, 96)          0         \n",
      "_________________________________________________________________\n",
      "max_pooling2d (MaxPooling2D) (None, 4, 4, 96)          0         \n",
      "_________________________________________________________________\n",
      "conv2d_1 (Conv2D)            (None, 4, 4, 256)         614656    \n",
      "_________________________________________________________________\n",
      "batch_normalization_1 (Batch (None, 4, 4, 256)         1024      \n",
      "_________________________________________________________________\n",
      "activation_1 (Activation)    (None, 4, 4, 256)         0         \n",
      "_________________________________________________________________\n",
      "max_pooling2d_1 (MaxPooling2 (None, 2, 2, 256)         0         \n",
      "_________________________________________________________________\n",
      "conv2d_2 (Conv2D)            (None, 2, 2, 384)         885120    \n",
      "_________________________________________________________________\n",
      "batch_normalization_2 (Batch (None, 2, 2, 384)         1536      \n",
      "_________________________________________________________________\n",
      "activation_2 (Activation)    (None, 2, 2, 384)         0         \n",
      "_________________________________________________________________\n",
      "conv2d_3 (Conv2D)            (None, 2, 2, 384)         1327488   \n",
      "_________________________________________________________________\n",
      "batch_normalization_3 (Batch (None, 2, 2, 384)         1536      \n",
      "_________________________________________________________________\n",
      "activation_3 (Activation)    (None, 2, 2, 384)         0         \n",
      "_________________________________________________________________\n",
      "conv2d_4 (Conv2D)            (None, 2, 2, 256)         884992    \n",
      "_________________________________________________________________\n",
      "batch_normalization_4 (Batch (None, 2, 2, 256)         1024      \n",
      "_________________________________________________________________\n",
      "activation_4 (Activation)    (None, 2, 2, 256)         0         \n",
      "_________________________________________________________________\n",
      "max_pooling2d_2 (MaxPooling2 (None, 1, 1, 256)         0         \n",
      "_________________________________________________________________\n",
      "flatten (Flatten)            (None, 256)               0         \n",
      "_________________________________________________________________\n",
      "dense (Dense)                (None, 4096)              1052672   \n",
      "_________________________________________________________________\n",
      "batch_normalization_5 (Batch (None, 4096)              16384     \n",
      "_________________________________________________________________\n",
      "activation_5 (Activation)    (None, 4096)              0         \n",
      "_________________________________________________________________\n",
      "dropout (Dropout)            (None, 4096)              0         \n",
      "_________________________________________________________________\n",
      "dense_1 (Dense)              (None, 4096)              16781312  \n",
      "_________________________________________________________________\n",
      "batch_normalization_6 (Batch (None, 4096)              16384     \n",
      "_________________________________________________________________\n",
      "activation_6 (Activation)    (None, 4096)              0         \n",
      "_________________________________________________________________\n",
      "dropout_1 (Dropout)          (None, 4096)              0         \n",
      "_________________________________________________________________\n",
      "dense_2 (Dense)              (None, 1000)              4097000   \n",
      "_________________________________________________________________\n",
      "batch_normalization_7 (Batch (None, 1000)              4000      \n",
      "_________________________________________________________________\n",
      "activation_7 (Activation)    (None, 1000)              0         \n",
      "_________________________________________________________________\n",
      "dropout_2 (Dropout)          (None, 1000)              0         \n",
      "_________________________________________________________________\n",
      "dense_3 (Dense)              (None, 10)                10010     \n",
      "_________________________________________________________________\n",
      "batch_normalization_8 (Batch (None, 10)                40        \n",
      "_________________________________________________________________\n",
      "activation_8 (Activation)    (None, 10)                0         \n",
      "=================================================================\n",
      "Total params: 25,730,506\n",
      "Trainable params: 25,709,350\n",
      "Non-trainable params: 21,156\n",
      "_________________________________________________________________\n"
     ]
    }
   ],
   "source": [
    "#Instantiation\n",
    "AlexNet = Sequential()\n",
    "\n",
    "#1st Convolutional Layer\n",
    "AlexNet.add(Conv2D(filters=96, input_shape=(32,32,3), kernel_size=(11,11), strides=(4,4), padding='same'))\n",
    "AlexNet.add(BatchNormalization())\n",
    "AlexNet.add(Activation('relu'))\n",
    "AlexNet.add(MaxPooling2D(pool_size=(2,2), strides=(2,2), padding='same'))\n",
    "\n",
    "#2nd Convolutional Layer\n",
    "AlexNet.add(Conv2D(filters=256, kernel_size=(5, 5), strides=(1,1), padding='same'))\n",
    "AlexNet.add(BatchNormalization())\n",
    "AlexNet.add(Activation('relu'))\n",
    "AlexNet.add(MaxPooling2D(pool_size=(2,2), strides=(2,2), padding='same'))\n",
    "\n",
    "#3rd Convolutional Layer\n",
    "AlexNet.add(Conv2D(filters=384, kernel_size=(3,3), strides=(1,1), padding='same'))\n",
    "AlexNet.add(BatchNormalization())\n",
    "AlexNet.add(Activation('relu'))\n",
    "\n",
    "#4th Convolutional Layer\n",
    "AlexNet.add(Conv2D(filters=384, kernel_size=(3,3), strides=(1,1), padding='same'))\n",
    "AlexNet.add(BatchNormalization())\n",
    "AlexNet.add(Activation('relu'))\n",
    "\n",
    "#5th Convolutional Layer\n",
    "AlexNet.add(Conv2D(filters=256, kernel_size=(3,3), strides=(1,1), padding='same'))\n",
    "AlexNet.add(BatchNormalization())\n",
    "AlexNet.add(Activation('relu'))\n",
    "AlexNet.add(MaxPooling2D(pool_size=(2,2), strides=(2,2), padding='same'))\n",
    "\n",
    "#Passing it to a Fully Connected layer\n",
    "AlexNet.add(Flatten())\n",
    "# 1st Fully Connected Layer\n",
    "AlexNet.add(Dense(4096, input_shape=(32,32,3,)))\n",
    "AlexNet.add(BatchNormalization())\n",
    "AlexNet.add(Activation('relu'))\n",
    "# Add Dropout to prevent overfitting\n",
    "AlexNet.add(Dropout(0.4))\n",
    "\n",
    "#2nd Fully Connected Layer\n",
    "AlexNet.add(Dense(4096))\n",
    "AlexNet.add(BatchNormalization())\n",
    "AlexNet.add(Activation('relu'))\n",
    "#Add Dropout\n",
    "AlexNet.add(Dropout(0.4))\n",
    "\n",
    "#3rd Fully Connected Layer\n",
    "AlexNet.add(Dense(1000))\n",
    "AlexNet.add(BatchNormalization())\n",
    "AlexNet.add(Activation('relu'))\n",
    "#Add Dropout\n",
    "AlexNet.add(Dropout(0.4))\n",
    "\n",
    "#Output Layer\n",
    "AlexNet.add(Dense(10))\n",
    "AlexNet.add(BatchNormalization())\n",
    "AlexNet.add(Activation('softmax'))\n",
    "\n",
    "#Model Summary\n",
    "AlexNet.summary()\n"
   ]
  },
  {
   "cell_type": "code",
   "execution_count": 7,
   "id": "658c50fa-cc17-4ce6-9ea8-a8a01d1f32c2",
   "metadata": {},
   "outputs": [],
   "source": [
    "# Compiling the model\n",
    "AlexNet.compile(loss = keras.losses.categorical_crossentropy, optimizer= 'adam', metrics=['accuracy'])"
   ]
  },
  {
   "cell_type": "code",
   "execution_count": 8,
   "id": "88287fa0-d876-4e4e-be52-8cd600f125dd",
   "metadata": {},
   "outputs": [
    {
     "name": "stdout",
     "output_type": "stream",
     "text": [
      "Downloading data from https://www.cs.toronto.edu/~kriz/cifar-10-python.tar.gz\n",
      "170500096/170498071 [==============================] - 9s 0us/step\n",
      "170508288/170498071 [==============================] - 9s 0us/step\n",
      "((35000, 32, 32, 3), (35000, 1))\n",
      "((15000, 32, 32, 3), (15000, 1))\n",
      "((10000, 32, 32, 3), (10000, 1))\n"
     ]
    }
   ],
   "source": [
    "#Keras library for CIFAR dataset\n",
    "from keras.datasets import cifar10\n",
    "(x_train, y_train),(x_test, y_test)=cifar10.load_data()\n",
    "\n",
    "#Train-validation-test split\n",
    "from sklearn.model_selection import train_test_split\n",
    "x_train,x_val,y_train,y_val=train_test_split(x_train,y_train,test_size=.3)\n",
    "\n",
    "#Dimension of the CIFAR10 dataset\n",
    "print((x_train.shape,y_train.shape))\n",
    "print((x_val.shape,y_val.shape))\n",
    "print((x_test.shape,y_test.shape))"
   ]
  },
  {
   "cell_type": "code",
   "execution_count": 10,
   "id": "29ae8df8-0b33-4d46-af83-9db16acf5cae",
   "metadata": {},
   "outputs": [],
   "source": [
    "#Onehot Encoding the labels.\n",
    "from sklearn.utils.multiclass import unique_labels\n",
    "from tensorflow.keras.utils import to_categorical\n"
   ]
  },
  {
   "cell_type": "code",
   "execution_count": 11,
   "id": "36d59892-1c5e-4044-8251-6d17a5ef668b",
   "metadata": {},
   "outputs": [],
   "source": [
    "#Since we have 10 classes we should expect the shape[1] of y_train,y_val and y_test to change from 1 to 10\n",
    "y_train=to_categorical(y_train)\n",
    "y_val=to_categorical(y_val)\n",
    "y_test=to_categorical(y_test)"
   ]
  },
  {
   "cell_type": "code",
   "execution_count": 12,
   "id": "39697490-0335-4aa1-b4ca-d54217c30955",
   "metadata": {},
   "outputs": [
    {
     "name": "stdout",
     "output_type": "stream",
     "text": [
      "((35000, 32, 32, 3), (35000, 10))\n",
      "((15000, 32, 32, 3), (15000, 10))\n",
      "((10000, 32, 32, 3), (10000, 10))\n"
     ]
    }
   ],
   "source": [
    "#Verifying the dimension after one hot encoding\n",
    "print((x_train.shape,y_train.shape))\n",
    "print((x_val.shape,y_val.shape))\n",
    "print((x_test.shape,y_test.shape))"
   ]
  },
  {
   "cell_type": "code",
   "execution_count": 13,
   "id": "d7b52fda-1aae-4007-a60f-883d29441ef6",
   "metadata": {},
   "outputs": [],
   "source": [
    "#Image Data Augmentation\n",
    "from keras.preprocessing.image import ImageDataGenerator\n",
    "\n",
    "train_generator = ImageDataGenerator(rotation_range=2, horizontal_flip=True,zoom_range=.1 )\n",
    "\n",
    "val_generator = ImageDataGenerator(rotation_range=2, horizontal_flip=True,zoom_range=.1)"
   ]
  },
  {
   "cell_type": "code",
   "execution_count": 14,
   "id": "c71595d0-335b-45b7-a096-fcec72b5b90b",
   "metadata": {},
   "outputs": [],
   "source": [
    "test_generator = ImageDataGenerator(rotation_range=2, horizontal_flip= True,zoom_range=.1)\n",
    "\n",
    "#Fitting the augmentation defined above to the data\n",
    "train_generator.fit(x_train)\n",
    "val_generator.fit(x_val)\n",
    "test_generator.fit(x_test)"
   ]
  },
  {
   "cell_type": "code",
   "execution_count": 15,
   "id": "10cd919d-3662-460f-9592-c886f8e32157",
   "metadata": {},
   "outputs": [],
   "source": [
    "#Learning Rate Annealer\n",
    "from keras.callbacks import ReduceLROnPlateau\n",
    "lrr= ReduceLROnPlateau(   monitor='val_acc',   factor=.01,   patience=3,  min_lr=1e-5) "
   ]
  },
  {
   "cell_type": "code",
   "execution_count": 16,
   "id": "3e64c937-aa9c-4ae7-b4c1-4b3f6b6cdc93",
   "metadata": {},
   "outputs": [],
   "source": [
    "#Defining the parameters\n",
    "batch_size= 100\n",
    "epochs=100\n",
    "learn_rate=.001"
   ]
  },
  {
   "cell_type": "code",
   "execution_count": 17,
   "id": "c88ec3c3-320e-4200-948d-b061e12b39bf",
   "metadata": {},
   "outputs": [
    {
     "name": "stderr",
     "output_type": "stream",
     "text": [
      "/opt/conda/lib/python3.9/site-packages/keras/engine/training.py:1972: UserWarning: `Model.fit_generator` is deprecated and will be removed in a future version. Please use `Model.fit`, which supports generators.\n",
      "  warnings.warn('`Model.fit_generator` is deprecated and '\n",
      "2022-04-27 12:41:51.887657: I tensorflow/compiler/mlir/mlir_graph_optimization_pass.cc:185] None of the MLIR Optimization Passes are enabled (registered 2)\n"
     ]
    },
    {
     "name": "stdout",
     "output_type": "stream",
     "text": [
      "Epoch 1/100\n",
      "350/350 [==============================] - ETA: 0s - loss: 1.6329 - accuracy: 0.4129WARNING:tensorflow:Your input ran out of data; interrupting training. Make sure that your dataset or generator can generate at least `steps_per_epoch * epochs` batches (in this case, 250 batches). You may need to use the repeat() function when building your dataset.\n",
      "350/350 [==============================] - 36s 101ms/step - loss: 1.6329 - accuracy: 0.4129 - val_loss: 2.1172 - val_accuracy: 0.2759\n",
      "WARNING:tensorflow:Learning rate reduction is conditioned on metric `val_acc` which is not available. Available metrics are: loss,accuracy,val_loss,val_accuracy,lr\n",
      "Epoch 2/100\n",
      "350/350 [==============================] - 30s 86ms/step - loss: 1.3938 - accuracy: 0.5084\n",
      "WARNING:tensorflow:Learning rate reduction is conditioned on metric `val_acc` which is not available. Available metrics are: loss,accuracy,lr\n",
      "Epoch 3/100\n",
      "350/350 [==============================] - 30s 86ms/step - loss: 1.2852 - accuracy: 0.5515\n",
      "WARNING:tensorflow:Learning rate reduction is conditioned on metric `val_acc` which is not available. Available metrics are: loss,accuracy,lr\n",
      "Epoch 4/100\n",
      "350/350 [==============================] - 30s 86ms/step - loss: 1.1943 - accuracy: 0.5850\n",
      "WARNING:tensorflow:Learning rate reduction is conditioned on metric `val_acc` which is not available. Available metrics are: loss,accuracy,lr\n",
      "Epoch 5/100\n",
      "350/350 [==============================] - 30s 86ms/step - loss: 1.1204 - accuracy: 0.6150\n",
      "WARNING:tensorflow:Learning rate reduction is conditioned on metric `val_acc` which is not available. Available metrics are: loss,accuracy,lr\n",
      "Epoch 6/100\n",
      "350/350 [==============================] - 30s 86ms/step - loss: 1.0535 - accuracy: 0.6367\n",
      "WARNING:tensorflow:Learning rate reduction is conditioned on metric `val_acc` which is not available. Available metrics are: loss,accuracy,lr\n",
      "Epoch 7/100\n",
      "350/350 [==============================] - 30s 86ms/step - loss: 1.0054 - accuracy: 0.6554\n",
      "WARNING:tensorflow:Learning rate reduction is conditioned on metric `val_acc` which is not available. Available metrics are: loss,accuracy,lr\n",
      "Epoch 8/100\n",
      "350/350 [==============================] - 30s 86ms/step - loss: 0.9625 - accuracy: 0.6723\n",
      "WARNING:tensorflow:Learning rate reduction is conditioned on metric `val_acc` which is not available. Available metrics are: loss,accuracy,lr\n",
      "Epoch 9/100\n",
      "350/350 [==============================] - 30s 86ms/step - loss: 0.9218 - accuracy: 0.6853\n",
      "WARNING:tensorflow:Learning rate reduction is conditioned on metric `val_acc` which is not available. Available metrics are: loss,accuracy,lr\n",
      "Epoch 10/100\n",
      "350/350 [==============================] - 30s 86ms/step - loss: 0.8756 - accuracy: 0.6997\n",
      "WARNING:tensorflow:Learning rate reduction is conditioned on metric `val_acc` which is not available. Available metrics are: loss,accuracy,lr\n",
      "Epoch 11/100\n",
      "350/350 [==============================] - 30s 86ms/step - loss: 0.8436 - accuracy: 0.7106\n",
      "WARNING:tensorflow:Learning rate reduction is conditioned on metric `val_acc` which is not available. Available metrics are: loss,accuracy,lr\n",
      "Epoch 12/100\n",
      "350/350 [==============================] - 30s 86ms/step - loss: 0.8108 - accuracy: 0.7239\n",
      "WARNING:tensorflow:Learning rate reduction is conditioned on metric `val_acc` which is not available. Available metrics are: loss,accuracy,lr\n",
      "Epoch 13/100\n",
      "350/350 [==============================] - 30s 86ms/step - loss: 0.7780 - accuracy: 0.7355\n",
      "WARNING:tensorflow:Learning rate reduction is conditioned on metric `val_acc` which is not available. Available metrics are: loss,accuracy,lr\n",
      "Epoch 14/100\n",
      "350/350 [==============================] - 30s 86ms/step - loss: 0.7398 - accuracy: 0.7487\n",
      "WARNING:tensorflow:Learning rate reduction is conditioned on metric `val_acc` which is not available. Available metrics are: loss,accuracy,lr\n",
      "Epoch 15/100\n",
      "350/350 [==============================] - 30s 86ms/step - loss: 0.7154 - accuracy: 0.7595\n",
      "WARNING:tensorflow:Learning rate reduction is conditioned on metric `val_acc` which is not available. Available metrics are: loss,accuracy,lr\n",
      "Epoch 16/100\n",
      "350/350 [==============================] - 30s 86ms/step - loss: 0.6877 - accuracy: 0.7677\n",
      "WARNING:tensorflow:Learning rate reduction is conditioned on metric `val_acc` which is not available. Available metrics are: loss,accuracy,lr\n",
      "Epoch 17/100\n",
      "350/350 [==============================] - 30s 86ms/step - loss: 0.6610 - accuracy: 0.7762\n",
      "WARNING:tensorflow:Learning rate reduction is conditioned on metric `val_acc` which is not available. Available metrics are: loss,accuracy,lr\n",
      "Epoch 18/100\n",
      "350/350 [==============================] - 30s 86ms/step - loss: 0.6296 - accuracy: 0.7873\n",
      "WARNING:tensorflow:Learning rate reduction is conditioned on metric `val_acc` which is not available. Available metrics are: loss,accuracy,lr\n",
      "Epoch 19/100\n",
      "350/350 [==============================] - 30s 86ms/step - loss: 0.6056 - accuracy: 0.7964\n",
      "WARNING:tensorflow:Learning rate reduction is conditioned on metric `val_acc` which is not available. Available metrics are: loss,accuracy,lr\n",
      "Epoch 20/100\n",
      "350/350 [==============================] - 30s 86ms/step - loss: 0.5874 - accuracy: 0.8038\n",
      "WARNING:tensorflow:Learning rate reduction is conditioned on metric `val_acc` which is not available. Available metrics are: loss,accuracy,lr\n",
      "Epoch 21/100\n",
      "350/350 [==============================] - 30s 86ms/step - loss: 0.5586 - accuracy: 0.8135\n",
      "WARNING:tensorflow:Learning rate reduction is conditioned on metric `val_acc` which is not available. Available metrics are: loss,accuracy,lr\n",
      "Epoch 22/100\n",
      "350/350 [==============================] - 30s 86ms/step - loss: 0.5459 - accuracy: 0.8159\n",
      "WARNING:tensorflow:Learning rate reduction is conditioned on metric `val_acc` which is not available. Available metrics are: loss,accuracy,lr\n",
      "Epoch 23/100\n",
      "350/350 [==============================] - 30s 86ms/step - loss: 0.5256 - accuracy: 0.8243\n",
      "WARNING:tensorflow:Learning rate reduction is conditioned on metric `val_acc` which is not available. Available metrics are: loss,accuracy,lr\n",
      "Epoch 24/100\n",
      "350/350 [==============================] - 30s 86ms/step - loss: 0.5029 - accuracy: 0.8312\n",
      "WARNING:tensorflow:Learning rate reduction is conditioned on metric `val_acc` which is not available. Available metrics are: loss,accuracy,lr\n",
      "Epoch 25/100\n",
      "350/350 [==============================] - 30s 86ms/step - loss: 0.4802 - accuracy: 0.8408\n",
      "WARNING:tensorflow:Learning rate reduction is conditioned on metric `val_acc` which is not available. Available metrics are: loss,accuracy,lr\n",
      "Epoch 26/100\n",
      "350/350 [==============================] - 30s 86ms/step - loss: 0.4562 - accuracy: 0.8480\n",
      "WARNING:tensorflow:Learning rate reduction is conditioned on metric `val_acc` which is not available. Available metrics are: loss,accuracy,lr\n",
      "Epoch 27/100\n",
      "350/350 [==============================] - 30s 86ms/step - loss: 0.4390 - accuracy: 0.8523\n",
      "WARNING:tensorflow:Learning rate reduction is conditioned on metric `val_acc` which is not available. Available metrics are: loss,accuracy,lr\n",
      "Epoch 28/100\n",
      "350/350 [==============================] - 30s 86ms/step - loss: 0.4310 - accuracy: 0.8547\n",
      "WARNING:tensorflow:Learning rate reduction is conditioned on metric `val_acc` which is not available. Available metrics are: loss,accuracy,lr\n",
      "Epoch 29/100\n",
      "350/350 [==============================] - 30s 86ms/step - loss: 0.4063 - accuracy: 0.8653\n",
      "WARNING:tensorflow:Learning rate reduction is conditioned on metric `val_acc` which is not available. Available metrics are: loss,accuracy,lr\n",
      "Epoch 30/100\n",
      "350/350 [==============================] - 30s 86ms/step - loss: 0.3889 - accuracy: 0.8689\n",
      "WARNING:tensorflow:Learning rate reduction is conditioned on metric `val_acc` which is not available. Available metrics are: loss,accuracy,lr\n",
      "Epoch 31/100\n",
      "350/350 [==============================] - 30s 86ms/step - loss: 0.3816 - accuracy: 0.8739\n",
      "WARNING:tensorflow:Learning rate reduction is conditioned on metric `val_acc` which is not available. Available metrics are: loss,accuracy,lr\n",
      "Epoch 32/100\n",
      "350/350 [==============================] - 30s 86ms/step - loss: 0.3692 - accuracy: 0.8775\n",
      "WARNING:tensorflow:Learning rate reduction is conditioned on metric `val_acc` which is not available. Available metrics are: loss,accuracy,lr\n",
      "Epoch 33/100\n",
      "350/350 [==============================] - 30s 86ms/step - loss: 0.3564 - accuracy: 0.8817\n",
      "WARNING:tensorflow:Learning rate reduction is conditioned on metric `val_acc` which is not available. Available metrics are: loss,accuracy,lr\n",
      "Epoch 34/100\n",
      "350/350 [==============================] - 30s 86ms/step - loss: 0.3403 - accuracy: 0.8867\n",
      "WARNING:tensorflow:Learning rate reduction is conditioned on metric `val_acc` which is not available. Available metrics are: loss,accuracy,lr\n",
      "Epoch 35/100\n",
      "350/350 [==============================] - 30s 86ms/step - loss: 0.3332 - accuracy: 0.8897\n",
      "WARNING:tensorflow:Learning rate reduction is conditioned on metric `val_acc` which is not available. Available metrics are: loss,accuracy,lr\n",
      "Epoch 36/100\n",
      "350/350 [==============================] - 30s 86ms/step - loss: 0.3242 - accuracy: 0.8919\n",
      "WARNING:tensorflow:Learning rate reduction is conditioned on metric `val_acc` which is not available. Available metrics are: loss,accuracy,lr\n",
      "Epoch 37/100\n",
      "350/350 [==============================] - 30s 86ms/step - loss: 0.3157 - accuracy: 0.8955\n",
      "WARNING:tensorflow:Learning rate reduction is conditioned on metric `val_acc` which is not available. Available metrics are: loss,accuracy,lr\n",
      "Epoch 38/100\n",
      "350/350 [==============================] - 30s 86ms/step - loss: 0.3005 - accuracy: 0.8992\n",
      "WARNING:tensorflow:Learning rate reduction is conditioned on metric `val_acc` which is not available. Available metrics are: loss,accuracy,lr\n",
      "Epoch 39/100\n",
      "350/350 [==============================] - 30s 86ms/step - loss: 0.2909 - accuracy: 0.9031\n",
      "WARNING:tensorflow:Learning rate reduction is conditioned on metric `val_acc` which is not available. Available metrics are: loss,accuracy,lr\n",
      "Epoch 40/100\n",
      "350/350 [==============================] - 30s 86ms/step - loss: 0.2756 - accuracy: 0.9085\n",
      "WARNING:tensorflow:Learning rate reduction is conditioned on metric `val_acc` which is not available. Available metrics are: loss,accuracy,lr\n",
      "Epoch 41/100\n",
      "350/350 [==============================] - 30s 86ms/step - loss: 0.2669 - accuracy: 0.9119\n",
      "WARNING:tensorflow:Learning rate reduction is conditioned on metric `val_acc` which is not available. Available metrics are: loss,accuracy,lr\n",
      "Epoch 42/100\n",
      "350/350 [==============================] - 30s 86ms/step - loss: 0.2592 - accuracy: 0.9146\n",
      "WARNING:tensorflow:Learning rate reduction is conditioned on metric `val_acc` which is not available. Available metrics are: loss,accuracy,lr\n",
      "Epoch 43/100\n",
      "350/350 [==============================] - 30s 86ms/step - loss: 0.2583 - accuracy: 0.9143\n",
      "WARNING:tensorflow:Learning rate reduction is conditioned on metric `val_acc` which is not available. Available metrics are: loss,accuracy,lr\n",
      "Epoch 44/100\n",
      "350/350 [==============================] - 30s 86ms/step - loss: 0.2440 - accuracy: 0.9184\n",
      "WARNING:tensorflow:Learning rate reduction is conditioned on metric `val_acc` which is not available. Available metrics are: loss,accuracy,lr\n",
      "Epoch 45/100\n",
      "350/350 [==============================] - 30s 86ms/step - loss: 0.2393 - accuracy: 0.9210\n",
      "WARNING:tensorflow:Learning rate reduction is conditioned on metric `val_acc` which is not available. Available metrics are: loss,accuracy,lr\n",
      "Epoch 46/100\n",
      "350/350 [==============================] - 30s 86ms/step - loss: 0.2319 - accuracy: 0.9216\n",
      "WARNING:tensorflow:Learning rate reduction is conditioned on metric `val_acc` which is not available. Available metrics are: loss,accuracy,lr\n",
      "Epoch 47/100\n",
      "350/350 [==============================] - 30s 86ms/step - loss: 0.2305 - accuracy: 0.9229\n",
      "WARNING:tensorflow:Learning rate reduction is conditioned on metric `val_acc` which is not available. Available metrics are: loss,accuracy,lr\n",
      "Epoch 48/100\n",
      "350/350 [==============================] - 30s 86ms/step - loss: 0.2166 - accuracy: 0.9289\n",
      "WARNING:tensorflow:Learning rate reduction is conditioned on metric `val_acc` which is not available. Available metrics are: loss,accuracy,lr\n",
      "Epoch 49/100\n",
      "350/350 [==============================] - 30s 86ms/step - loss: 0.2151 - accuracy: 0.9287\n",
      "WARNING:tensorflow:Learning rate reduction is conditioned on metric `val_acc` which is not available. Available metrics are: loss,accuracy,lr\n",
      "Epoch 50/100\n",
      "350/350 [==============================] - 30s 86ms/step - loss: 0.2098 - accuracy: 0.9283\n",
      "WARNING:tensorflow:Learning rate reduction is conditioned on metric `val_acc` which is not available. Available metrics are: loss,accuracy,lr\n",
      "Epoch 51/100\n",
      "350/350 [==============================] - 30s 86ms/step - loss: 0.1997 - accuracy: 0.9339\n",
      "WARNING:tensorflow:Learning rate reduction is conditioned on metric `val_acc` which is not available. Available metrics are: loss,accuracy,lr\n",
      "Epoch 52/100\n",
      "350/350 [==============================] - 30s 86ms/step - loss: 0.2004 - accuracy: 0.9321\n",
      "WARNING:tensorflow:Learning rate reduction is conditioned on metric `val_acc` which is not available. Available metrics are: loss,accuracy,lr\n",
      "Epoch 53/100\n",
      "350/350 [==============================] - 30s 86ms/step - loss: 0.1999 - accuracy: 0.9340\n",
      "WARNING:tensorflow:Learning rate reduction is conditioned on metric `val_acc` which is not available. Available metrics are: loss,accuracy,lr\n",
      "Epoch 54/100\n",
      "350/350 [==============================] - 30s 86ms/step - loss: 0.1856 - accuracy: 0.9383\n",
      "WARNING:tensorflow:Learning rate reduction is conditioned on metric `val_acc` which is not available. Available metrics are: loss,accuracy,lr\n",
      "Epoch 55/100\n",
      "350/350 [==============================] - 30s 86ms/step - loss: 0.1834 - accuracy: 0.9385\n",
      "WARNING:tensorflow:Learning rate reduction is conditioned on metric `val_acc` which is not available. Available metrics are: loss,accuracy,lr\n",
      "Epoch 56/100\n",
      "350/350 [==============================] - 30s 86ms/step - loss: 0.1803 - accuracy: 0.9397\n",
      "WARNING:tensorflow:Learning rate reduction is conditioned on metric `val_acc` which is not available. Available metrics are: loss,accuracy,lr\n",
      "Epoch 57/100\n",
      "350/350 [==============================] - 30s 86ms/step - loss: 0.1777 - accuracy: 0.9416\n",
      "WARNING:tensorflow:Learning rate reduction is conditioned on metric `val_acc` which is not available. Available metrics are: loss,accuracy,lr\n",
      "Epoch 58/100\n",
      "350/350 [==============================] - 30s 86ms/step - loss: 0.1773 - accuracy: 0.9407\n",
      "WARNING:tensorflow:Learning rate reduction is conditioned on metric `val_acc` which is not available. Available metrics are: loss,accuracy,lr\n",
      "Epoch 59/100\n",
      "350/350 [==============================] - 30s 86ms/step - loss: 0.1707 - accuracy: 0.9424\n",
      "WARNING:tensorflow:Learning rate reduction is conditioned on metric `val_acc` which is not available. Available metrics are: loss,accuracy,lr\n",
      "Epoch 60/100\n",
      "350/350 [==============================] - 30s 86ms/step - loss: 0.1589 - accuracy: 0.9480\n",
      "WARNING:tensorflow:Learning rate reduction is conditioned on metric `val_acc` which is not available. Available metrics are: loss,accuracy,lr\n",
      "Epoch 61/100\n",
      "350/350 [==============================] - 30s 86ms/step - loss: 0.1601 - accuracy: 0.9463\n",
      "WARNING:tensorflow:Learning rate reduction is conditioned on metric `val_acc` which is not available. Available metrics are: loss,accuracy,lr\n",
      "Epoch 62/100\n",
      "350/350 [==============================] - 30s 86ms/step - loss: 0.1509 - accuracy: 0.9498\n",
      "WARNING:tensorflow:Learning rate reduction is conditioned on metric `val_acc` which is not available. Available metrics are: loss,accuracy,lr\n",
      "Epoch 63/100\n",
      "350/350 [==============================] - 30s 86ms/step - loss: 0.1577 - accuracy: 0.9463\n",
      "WARNING:tensorflow:Learning rate reduction is conditioned on metric `val_acc` which is not available. Available metrics are: loss,accuracy,lr\n",
      "Epoch 64/100\n",
      "350/350 [==============================] - 30s 86ms/step - loss: 0.1470 - accuracy: 0.9517\n",
      "WARNING:tensorflow:Learning rate reduction is conditioned on metric `val_acc` which is not available. Available metrics are: loss,accuracy,lr\n",
      "Epoch 65/100\n",
      "350/350 [==============================] - 30s 86ms/step - loss: 0.1510 - accuracy: 0.9500\n",
      "WARNING:tensorflow:Learning rate reduction is conditioned on metric `val_acc` which is not available. Available metrics are: loss,accuracy,lr\n",
      "Epoch 66/100\n",
      "350/350 [==============================] - 30s 86ms/step - loss: 0.1425 - accuracy: 0.9536\n",
      "WARNING:tensorflow:Learning rate reduction is conditioned on metric `val_acc` which is not available. Available metrics are: loss,accuracy,lr\n",
      "Epoch 67/100\n",
      "350/350 [==============================] - 30s 86ms/step - loss: 0.1492 - accuracy: 0.9494\n",
      "WARNING:tensorflow:Learning rate reduction is conditioned on metric `val_acc` which is not available. Available metrics are: loss,accuracy,lr\n",
      "Epoch 68/100\n",
      "350/350 [==============================] - 30s 86ms/step - loss: 0.1432 - accuracy: 0.9522\n",
      "WARNING:tensorflow:Learning rate reduction is conditioned on metric `val_acc` which is not available. Available metrics are: loss,accuracy,lr\n",
      "Epoch 69/100\n",
      "350/350 [==============================] - 30s 86ms/step - loss: 0.1346 - accuracy: 0.9552\n",
      "WARNING:tensorflow:Learning rate reduction is conditioned on metric `val_acc` which is not available. Available metrics are: loss,accuracy,lr\n",
      "Epoch 70/100\n",
      "350/350 [==============================] - 30s 86ms/step - loss: 0.1331 - accuracy: 0.9556\n",
      "WARNING:tensorflow:Learning rate reduction is conditioned on metric `val_acc` which is not available. Available metrics are: loss,accuracy,lr\n",
      "Epoch 71/100\n",
      "350/350 [==============================] - 30s 86ms/step - loss: 0.1293 - accuracy: 0.9578\n",
      "WARNING:tensorflow:Learning rate reduction is conditioned on metric `val_acc` which is not available. Available metrics are: loss,accuracy,lr\n",
      "Epoch 72/100\n",
      "350/350 [==============================] - 30s 86ms/step - loss: 0.1292 - accuracy: 0.9576\n",
      "WARNING:tensorflow:Learning rate reduction is conditioned on metric `val_acc` which is not available. Available metrics are: loss,accuracy,lr\n",
      "Epoch 73/100\n",
      "350/350 [==============================] - 30s 86ms/step - loss: 0.1257 - accuracy: 0.9577\n",
      "WARNING:tensorflow:Learning rate reduction is conditioned on metric `val_acc` which is not available. Available metrics are: loss,accuracy,lr\n",
      "Epoch 74/100\n",
      "350/350 [==============================] - 30s 86ms/step - loss: 0.1230 - accuracy: 0.9592\n",
      "WARNING:tensorflow:Learning rate reduction is conditioned on metric `val_acc` which is not available. Available metrics are: loss,accuracy,lr\n",
      "Epoch 75/100\n",
      "350/350 [==============================] - 30s 86ms/step - loss: 0.1236 - accuracy: 0.9587\n",
      "WARNING:tensorflow:Learning rate reduction is conditioned on metric `val_acc` which is not available. Available metrics are: loss,accuracy,lr\n",
      "Epoch 76/100\n",
      "350/350 [==============================] - 30s 86ms/step - loss: 0.1230 - accuracy: 0.9586\n",
      "WARNING:tensorflow:Learning rate reduction is conditioned on metric `val_acc` which is not available. Available metrics are: loss,accuracy,lr\n",
      "Epoch 77/100\n",
      "350/350 [==============================] - 30s 86ms/step - loss: 0.1165 - accuracy: 0.9611\n",
      "WARNING:tensorflow:Learning rate reduction is conditioned on metric `val_acc` which is not available. Available metrics are: loss,accuracy,lr\n",
      "Epoch 78/100\n",
      "350/350 [==============================] - 30s 86ms/step - loss: 0.1184 - accuracy: 0.9595\n",
      "WARNING:tensorflow:Learning rate reduction is conditioned on metric `val_acc` which is not available. Available metrics are: loss,accuracy,lr\n",
      "Epoch 79/100\n",
      "350/350 [==============================] - 30s 86ms/step - loss: 0.1152 - accuracy: 0.9606\n",
      "WARNING:tensorflow:Learning rate reduction is conditioned on metric `val_acc` which is not available. Available metrics are: loss,accuracy,lr\n",
      "Epoch 80/100\n",
      "350/350 [==============================] - 30s 86ms/step - loss: 0.1135 - accuracy: 0.9622\n",
      "WARNING:tensorflow:Learning rate reduction is conditioned on metric `val_acc` which is not available. Available metrics are: loss,accuracy,lr\n",
      "Epoch 81/100\n",
      "350/350 [==============================] - 30s 86ms/step - loss: 0.1089 - accuracy: 0.9634\n",
      "WARNING:tensorflow:Learning rate reduction is conditioned on metric `val_acc` which is not available. Available metrics are: loss,accuracy,lr\n",
      "Epoch 82/100\n",
      "350/350 [==============================] - 30s 86ms/step - loss: 0.1146 - accuracy: 0.9612\n",
      "WARNING:tensorflow:Learning rate reduction is conditioned on metric `val_acc` which is not available. Available metrics are: loss,accuracy,lr\n",
      "Epoch 83/100\n",
      "350/350 [==============================] - 30s 86ms/step - loss: 0.1094 - accuracy: 0.9634\n",
      "WARNING:tensorflow:Learning rate reduction is conditioned on metric `val_acc` which is not available. Available metrics are: loss,accuracy,lr\n",
      "Epoch 84/100\n",
      "350/350 [==============================] - 30s 86ms/step - loss: 0.1057 - accuracy: 0.9655\n",
      "WARNING:tensorflow:Learning rate reduction is conditioned on metric `val_acc` which is not available. Available metrics are: loss,accuracy,lr\n",
      "Epoch 85/100\n",
      "350/350 [==============================] - 30s 86ms/step - loss: 0.1027 - accuracy: 0.9661\n",
      "WARNING:tensorflow:Learning rate reduction is conditioned on metric `val_acc` which is not available. Available metrics are: loss,accuracy,lr\n",
      "Epoch 86/100\n",
      "350/350 [==============================] - 30s 86ms/step - loss: 0.1090 - accuracy: 0.9633\n",
      "WARNING:tensorflow:Learning rate reduction is conditioned on metric `val_acc` which is not available. Available metrics are: loss,accuracy,lr\n",
      "Epoch 87/100\n",
      "350/350 [==============================] - 30s 86ms/step - loss: 0.1031 - accuracy: 0.9665\n",
      "WARNING:tensorflow:Learning rate reduction is conditioned on metric `val_acc` which is not available. Available metrics are: loss,accuracy,lr\n",
      "Epoch 88/100\n",
      "350/350 [==============================] - 30s 86ms/step - loss: 0.1050 - accuracy: 0.9636\n",
      "WARNING:tensorflow:Learning rate reduction is conditioned on metric `val_acc` which is not available. Available metrics are: loss,accuracy,lr\n",
      "Epoch 89/100\n",
      "350/350 [==============================] - 30s 86ms/step - loss: 0.1014 - accuracy: 0.9662\n",
      "WARNING:tensorflow:Learning rate reduction is conditioned on metric `val_acc` which is not available. Available metrics are: loss,accuracy,lr\n",
      "Epoch 90/100\n",
      "350/350 [==============================] - 30s 86ms/step - loss: 0.0948 - accuracy: 0.9680\n",
      "WARNING:tensorflow:Learning rate reduction is conditioned on metric `val_acc` which is not available. Available metrics are: loss,accuracy,lr\n",
      "Epoch 91/100\n",
      "350/350 [==============================] - 30s 86ms/step - loss: 0.0951 - accuracy: 0.9684\n",
      "WARNING:tensorflow:Learning rate reduction is conditioned on metric `val_acc` which is not available. Available metrics are: loss,accuracy,lr\n",
      "Epoch 92/100\n",
      "350/350 [==============================] - 30s 86ms/step - loss: 0.0920 - accuracy: 0.9691\n",
      "WARNING:tensorflow:Learning rate reduction is conditioned on metric `val_acc` which is not available. Available metrics are: loss,accuracy,lr\n",
      "Epoch 93/100\n",
      "350/350 [==============================] - 30s 86ms/step - loss: 0.1006 - accuracy: 0.9656\n",
      "WARNING:tensorflow:Learning rate reduction is conditioned on metric `val_acc` which is not available. Available metrics are: loss,accuracy,lr\n",
      "Epoch 94/100\n",
      "350/350 [==============================] - 30s 86ms/step - loss: 0.0923 - accuracy: 0.9691\n",
      "WARNING:tensorflow:Learning rate reduction is conditioned on metric `val_acc` which is not available. Available metrics are: loss,accuracy,lr\n",
      "Epoch 95/100\n",
      "350/350 [==============================] - 30s 86ms/step - loss: 0.0940 - accuracy: 0.9680\n",
      "WARNING:tensorflow:Learning rate reduction is conditioned on metric `val_acc` which is not available. Available metrics are: loss,accuracy,lr\n",
      "Epoch 96/100\n",
      "350/350 [==============================] - 30s 86ms/step - loss: 0.0865 - accuracy: 0.9715\n",
      "WARNING:tensorflow:Learning rate reduction is conditioned on metric `val_acc` which is not available. Available metrics are: loss,accuracy,lr\n",
      "Epoch 97/100\n",
      "350/350 [==============================] - 30s 86ms/step - loss: 0.0919 - accuracy: 0.9694\n",
      "WARNING:tensorflow:Learning rate reduction is conditioned on metric `val_acc` which is not available. Available metrics are: loss,accuracy,lr\n",
      "Epoch 98/100\n",
      "350/350 [==============================] - 30s 86ms/step - loss: 0.0866 - accuracy: 0.9705\n",
      "WARNING:tensorflow:Learning rate reduction is conditioned on metric `val_acc` which is not available. Available metrics are: loss,accuracy,lr\n",
      "Epoch 99/100\n",
      "350/350 [==============================] - 30s 86ms/step - loss: 0.0837 - accuracy: 0.9727\n",
      "WARNING:tensorflow:Learning rate reduction is conditioned on metric `val_acc` which is not available. Available metrics are: loss,accuracy,lr\n",
      "Epoch 100/100\n",
      "350/350 [==============================] - 30s 86ms/step - loss: 0.0841 - accuracy: 0.9718\n",
      "WARNING:tensorflow:Learning rate reduction is conditioned on metric `val_acc` which is not available. Available metrics are: loss,accuracy,lr\n"
     ]
    },
    {
     "data": {
      "text/plain": [
       "<keras.callbacks.History at 0x7fc8f06eb040>"
      ]
     },
     "execution_count": 17,
     "metadata": {},
     "output_type": "execute_result"
    }
   ],
   "source": [
    "#Training the model\n",
    "AlexNet.fit_generator(train_generator.flow(x_train, y_train, batch_size=batch_size), epochs = epochs, steps_per_epoch = x_train.shape[0]//batch_size, validation_data = val_generator.flow(x_val, y_val, batch_size=batch_size), validation_steps = 250, callbacks = [lrr], verbose=1)"
   ]
  },
  {
   "cell_type": "code",
   "execution_count": 18,
   "id": "fadf7d32-e4ab-493f-9b4d-ba15434e366d",
   "metadata": {},
   "outputs": [
    {
     "data": {
      "text/plain": [
       "<matplotlib.legend.Legend at 0x7fc8d85417f0>"
      ]
     },
     "execution_count": 18,
     "metadata": {},
     "output_type": "execute_result"
    },
    {
     "data": {
      "image/png": "[encoded data removed]",
      "text/plain": [
       "<Figure size 432x288 with 2 Axes>"
      ]
     },
     "metadata": {
      "needs_background": "light"
     },
     "output_type": "display_data"
    }
   ],
   "source": [
    "#After successful training, we will visualize its performance.\n",
    "\n",
    "import matplotlib.pyplot as plt\n",
    "#Plotting the training and validation loss\n",
    "\n",
    "f,ax=plt.subplots(2,1) #Creates 2 subplots under 1 column\n",
    "\n",
    "#Assigning the first subplot to graph training loss and validation loss\n",
    "ax[0].plot(AlexNet.history.history['loss'],color='b',label='Training Loss')\n",
    "ax[0].plot(AlexNet.history.history['val_loss'],color='r',label='Validation Loss')\n",
    "\n",
    "#Plotting the training accuracy and validation accuracy\n",
    "ax[1].plot(AlexNet.history.history['accuracy'],color='b',label='Training  Accuracy')\n",
    "ax[1].plot(AlexNet.history.history['val_accuracy'],color='r',label='Validation Accuracy')\n",
    "\n",
    "plt.legend()"
   ]
  },
  {
   "cell_type": "code",
   "execution_count": 22,
   "id": "d374c756-f88e-4ea5-bd2f-1b82e205e3d1",
   "metadata": {},
   "outputs": [
    {
     "name": "stdout",
     "output_type": "stream",
     "text": [
      "Confusion matrix, without normalization\n"
     ]
    },
    {
     "data": {
      "text/plain": [
       "<AxesSubplot:title={'center':'Confusion matrix, without normalization'}, xlabel='Predicted label', ylabel='True label'>"
      ]
     },
     "execution_count": 22,
     "metadata": {},
     "output_type": "execute_result"
    },
    {
     "data": {
      "image/png": "[encoded data removed]",
      "text/plain": [
       "<Figure size 504x504 with 2 Axes>"
      ]
     },
     "metadata": {
      "needs_background": "light"
     },
     "output_type": "display_data"
    }
   ],
   "source": [
    "#Defining function for confusion matrix plot\n",
    "def plot_confusion_matrix(y_true, y_pred, classes,\n",
    "                          normalize=False,\n",
    "                          title=None,\n",
    "                          cmap=plt.cm.Blues):\n",
    "    if not title:\n",
    "        if normalize:\n",
    "            title = 'Normalized confusion matrix'\n",
    "        else:\n",
    "            title = 'Confusion matrix, without normalization'\n",
    "\n",
    "    # Compute confusion matrix\n",
    "    cm = confusion_matrix(y_true, y_pred)\n",
    "    if normalize:\n",
    "        cm = cm.astype('float') / cm.sum(axis=1)[:, np.newaxis]\n",
    "        print(\"Normalized confusion matrix\")\n",
    "    else:\n",
    "        print('Confusion matrix, without normalization')\n",
    "\n",
    "#Print Confusion matrix\n",
    "    fig, ax = plt.subplots(figsize=(7,7))\n",
    "    im = ax.imshow(cm, interpolation='nearest', cmap=cmap)\n",
    "    ax.figure.colorbar(im, ax=ax)\n",
    "    # We want to show all ticks...\n",
    "    ax.set(xticks=np.arange(cm.shape[1]),\n",
    "           yticks=np.arange(cm.shape[0]),\n",
    "           xticklabels=classes, yticklabels=classes,\n",
    "           title=title,\n",
    "           ylabel='True label',\n",
    "           xlabel='Predicted label')\n",
    "\n",
    "    # Rotate the tick labels and set their alignment.\n",
    "    plt.setp(ax.get_xticklabels(), rotation=45, ha=\"right\",\n",
    "             rotation_mode=\"anchor\")\n",
    "    # Loop over data dimensions and create text annotations.\n",
    "    fmt = '.2f' if normalize else 'd'\n",
    "    thresh = cm.max() / 2.\n",
    "    for i in range(cm.shape[0]):\n",
    "        for j in range(cm.shape[1]):\n",
    "            ax.text(j, i, format(cm[i, j], fmt),\n",
    "                    ha=\"center\", va=\"center\",\n",
    "                    color=\"white\" if cm[i, j] > thresh else \"black\")\n",
    "    fig.tight_layout()\n",
    "    return ax\n",
    "\n",
    "np.set_printoptions(precision=2)\n",
    "\n",
    "#In the next step, we will predict the class labels for the test images using the trained AlexNet model.\n",
    "\n",
    "#Making prediction\n",
    "y_prob=AlexNet.predict(x_test)\n",
    "y_pred = y_prob.argmax(axis=-1)\n",
    "y_true=np.argmax(y_test,axis=1)\n",
    "\n",
    "#Plotting the confusion matrix\n",
    "from sklearn.metrics import confusion_matrix\n",
    "confusion_mtx=confusion_matrix(y_true,y_pred)\n",
    "\n",
    "class_names=['airplane', 'automobile', 'bird', 'cat', 'deer', 'dog', 'frog', 'horse', 'ship', 'truck']\n",
    "\n",
    "# Plotting non-normalized confusion matrix\n",
    "plot_confusion_matrix(y_true, y_pred, classes = class_names,title = 'Confusion matrix, without normalization')"
   ]
  },
  {
   "cell_type": "code",
   "execution_count": 23,
   "id": "d2ad9c92-6243-4cbe-ac6d-1662019057e0",
   "metadata": {},
   "outputs": [
    {
     "name": "stdout",
     "output_type": "stream",
     "text": [
      "Normalized confusion matrix\n"
     ]
    },
    {
     "data": {
      "text/plain": [
       "<AxesSubplot:title={'center':'Normalized confusion matrix'}, xlabel='Predicted label', ylabel='True label'>"
      ]
     },
     "execution_count": 23,
     "metadata": {},
     "output_type": "execute_result"
    },
    {
     "data": {
      "image/png": "[encoded data removed]",
      "text/plain": [
       "<Figure size 504x504 with 2 Axes>"
      ]
     },
     "metadata": {
      "needs_background": "light"
     },
     "output_type": "display_data"
    }
   ],
   "source": [
    "# Plotting normalized confusion matrix\n",
    "plot_confusion_matrix(y_true, y_pred, classes=class_names, normalize=True, title='Normalized confusion matrix')"
   ]
  },
  {
   "cell_type": "code",
   "execution_count": 24,
   "id": "28014466-e040-4794-a069-9eb6f1e6f67c",
   "metadata": {},
   "outputs": [
    {
     "name": "stdout",
     "output_type": "stream",
     "text": [
      "Accuracy Score =  0.5975\n"
     ]
    }
   ],
   "source": [
    "#Classification accuracy\n",
    "from sklearn.metrics import accuracy_score\n",
    "acc_score = accuracy_score(y_true, y_pred)\n",
    "print('Accuracy Score = ', acc_score)"
   ]
  },
  {
   "cell_type": "code",
   "execution_count": 25,
   "id": "cee206c3-be14-4118-807c-63ba4cc6668d",
   "metadata": {},
   "outputs": [
    {
     "data": {
      "text/plain": [
       "(10000, 32, 32, 3)"
      ]
     },
     "execution_count": 25,
     "metadata": {},
     "output_type": "execute_result"
    }
   ],
   "source": [
    "x_test.shape"
   ]
  },
  {
   "cell_type": "code",
   "execution_count": 48,
   "id": "0341022e-af18-4500-91a0-3b7139933073",
   "metadata": {},
   "outputs": [
    {
     "data": {
      "text/plain": [
       "'airplane'"
      ]
     },
     "execution_count": 48,
     "metadata": {},
     "output_type": "execute_result"
    },
    {
     "data": {
      "image/png": "[encoded data removed]",
      "text/plain": [
       "<Figure size 432x288 with 1 Axes>"
      ]
     },
     "metadata": {
      "needs_background": "light"
     },
     "output_type": "display_data"
    }
   ],
   "source": [
    "ind = 10\n",
    "plt.imshow(x_test[ind,:,:,:])\n",
    "c_num = np.argwhere(y_test[ind]>0)\n",
    "c_num = np.argwhere(y_test[ind]>0)\n",
    "class_names[c_num[0][0]]"
   ]
  },
  {
   "cell_type": "code",
   "execution_count": null,
   "id": "db2760a4-ed22-4630-9580-bf0f355f3cf9",
   "metadata": {},
   "outputs": [],
   "source": []
  }
 ],
 "metadata": {
  "kernelspec": {
   "display_name": "Python 3 (ipykernel)",
   "language": "python",
   "name": "python3"
  },
  "language_info": {
   "codemirror_mode": {
    "name": "ipython",
    "version": 3
   },
   "file_extension": ".py",
   "mimetype": "text/x-python",
   "name": "python",
   "nbconvert_exporter": "python",
   "pygments_lexer": "ipython3",
   "version": "3.9.10"
  }
 },
 "nbformat": 4,
 "nbformat_minor": 5
}
