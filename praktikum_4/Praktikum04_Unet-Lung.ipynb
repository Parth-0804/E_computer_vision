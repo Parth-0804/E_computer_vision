{
 "cells": [
  {
   "cell_type": "code",
   "execution_count": 1,
   "metadata": {},
   "outputs": [],
   "source": [
    "import os\n",
    "\n",
    "import numpy as np # linear algebra\n",
    "import pandas as pd # data processing, CSV file I/O (e.g. pd.read_csv)\n"
   ]
  },
  {
   "cell_type": "code",
   "execution_count": 6,
   "metadata": {},
   "outputs": [
    {
     "name": "stdout",
     "output_type": "stream",
     "text": [
      "Collecting opencv-python\n",
      "  Using cached opencv_python-4.5.5.64-cp36-abi3-manylinux_2_17_x86_64.manylinux2014_x86_64.whl (60.5 MB)\n",
      "Requirement already satisfied: numpy>=1.14.5 in /opt/conda/lib/python3.9/site-packages (from opencv-python) (1.19.5)\n",
      "Installing collected packages: opencv-python\n",
      "Successfully installed opencv-python-4.5.5.64\n",
      "Note: you may need to restart the kernel to use updated packages.\n"
     ]
    }
   ],
   "source": [
    "pip install opencv-python"
   ]
  },
  {
   "cell_type": "code",
   "execution_count": 7,
   "metadata": {},
   "outputs": [],
   "source": [
    "import cv2"
   ]
  },
  {
   "cell_type": "code",
   "execution_count": 8,
   "metadata": {},
   "outputs": [],
   "source": [
    "import matplotlib.pyplot as plt"
   ]
  },
  {
   "cell_type": "code",
   "execution_count": 9,
   "metadata": {},
   "outputs": [],
   "source": [
    "%matplotlib inline"
   ]
  },
  {
   "cell_type": "code",
   "execution_count": 10,
   "metadata": {},
   "outputs": [],
   "source": [
    "from sklearn.model_selection import train_test_split"
   ]
  },
  {
   "cell_type": "code",
   "execution_count": 13,
   "metadata": {},
   "outputs": [],
   "source": [
    "import tensorflow as tf"
   ]
  },
  {
   "cell_type": "code",
   "execution_count": 15,
   "metadata": {},
   "outputs": [],
   "source": [
    "from tensorflow.keras.models import Model"
   ]
  },
  {
   "cell_type": "code",
   "execution_count": 16,
   "metadata": {},
   "outputs": [],
   "source": [
    "from keras.layers import *\n",
    "#from keras.optimizers import Adam\n",
    "from keras.regularizers import l2\n",
    "from keras.preprocessing.image import ImageDataGenerator\n",
    "import keras.backend as K\n",
    "from keras.callbacks import LearningRateScheduler, ModelCheckpoint"
   ]
  },
  {
   "cell_type": "code",
   "execution_count": 17,
   "metadata": {},
   "outputs": [],
   "source": [
    "IMAGE_LIB = '2d_images/'\n",
    "MASK_LIB = '2d_masks/'\n",
    "IMG_HEIGHT, IMG_WIDTH = 32, 32\n",
    "SEED=42"
   ]
  },
  {
   "cell_type": "code",
   "execution_count": 18,
   "metadata": {},
   "outputs": [],
   "source": [
    "all_images = [x for x in sorted(os.listdir(IMAGE_LIB)) if x[-4:] == '.tif']"
   ]
  },
  {
   "cell_type": "code",
   "execution_count": 19,
   "metadata": {},
   "outputs": [
    {
     "name": "stdout",
     "output_type": "stream",
     "text": [
      "['ID_0000_Z_0142.tif', 'ID_0001_Z_0146.tif', 'ID_0002_Z_0162.tif', 'ID_0003_Z_0132.tif', 'ID_0004_Z_0066.tif', 'ID_0005_Z_0066.tif', 'ID_0006_Z_0206.tif', 'ID_0007_Z_0211.tif', 'ID_0008_Z_0065.tif', 'ID_0009_Z_0114.tif', 'ID_0010_Z_0259.tif', 'ID_0011_Z_0156.tif', 'ID_0012_Z_0167.tif', 'ID_0013_Z_0047.tif', 'ID_0014_Z_0116.tif', 'ID_0015_Z_0136.tif', 'ID_0016_Z_0208.tif', 'ID_0017_Z_0061.tif', 'ID_0018_Z_0069.tif', 'ID_0019_Z_0088.tif', 'ID_0020_Z_0070.tif', 'ID_0021_Z_0066.tif', 'ID_0022_Z_0131.tif', 'ID_0023_Z_0241.tif', 'ID_0024_Z_0086.tif', 'ID_0025_Z_0112.tif', 'ID_0026_Z_0140.tif', 'ID_0027_Z_0125.tif', 'ID_0028_Z_0125.tif', 'ID_0029_Z_0059.tif', 'ID_0030_Z_0302.tif', 'ID_0031_Z_0232.tif', 'ID_0032_Z_0055.tif', 'ID_0033_Z_0278.tif', 'ID_0034_Z_0066.tif', 'ID_0035_Z_0224.tif', 'ID_0036_Z_0060.tif', 'ID_0037_Z_0150.tif', 'ID_0038_Z_0148.tif', 'ID_0039_Z_0112.tif', 'ID_0040_Z_0066.tif', 'ID_0041_Z_0336.tif', 'ID_0042_Z_0366.tif', 'ID_0043_Z_0097.tif', 'ID_0044_Z_0116.tif', 'ID_0045_Z_0131.tif', 'ID_0046_Z_0110.tif', 'ID_0047_Z_0272.tif', 'ID_0048_Z_0294.tif', 'ID_0049_Z_0105.tif', 'ID_0050_Z_0085.tif', 'ID_0051_Z_0130.tif', 'ID_0052_Z_0108.tif', 'ID_0053_Z_0127.tif', 'ID_0054_Z_0135.tif', 'ID_0055_Z_0122.tif', 'ID_0056_Z_0163.tif', 'ID_0057_Z_0070.tif', 'ID_0058_Z_0150.tif', 'ID_0059_Z_0150.tif', 'ID_0060_Z_0147.tif', 'ID_0061_Z_0064.tif', 'ID_0062_Z_0125.tif', 'ID_0063_Z_0067.tif', 'ID_0064_Z_0069.tif', 'ID_0065_Z_0126.tif', 'ID_0066_Z_0141.tif', 'ID_0067_Z_0238.tif', 'ID_0068_Z_0055.tif', 'ID_0069_Z_0054.tif', 'ID_0070_Z_0120.tif', 'ID_0071_Z_0072.tif', 'ID_0072_Z_0119.tif', 'ID_0073_Z_0076.tif', 'ID_0074_Z_0066.tif', 'ID_0075_Z_0061.tif', 'ID_0076_Z_0230.tif', 'ID_0077_Z_0173.tif', 'ID_0078_Z_0058.tif', 'ID_0079_Z_0072.tif', 'ID_0080_Z_0213.tif', 'ID_0081_Z_0066.tif', 'ID_0082_Z_0278.tif', 'ID_0083_Z_0256.tif', 'ID_0084_Z_0218.tif', 'ID_0085_Z_0237.tif', 'ID_0086_Z_0253.tif', 'ID_0087_Z_0237.tif', 'ID_0088_Z_0100.tif', 'ID_0089_Z_0341.tif', 'ID_0090_Z_0119.tif', 'ID_0091_Z_0063.tif', 'ID_0092_Z_0258.tif', 'ID_0093_Z_0123.tif', 'ID_0094_Z_0214.tif', 'ID_0095_Z_0097.tif', 'ID_0096_Z_0216.tif', 'ID_0097_Z_0098.tif', 'ID_0098_Z_0068.tif', 'ID_0099_Z_0069.tif', 'ID_0100_Z_0062.tif', 'ID_0101_Z_0196.tif', 'ID_0102_Z_0238.tif', 'ID_0103_Z_0069.tif', 'ID_0104_Z_0101.tif', 'ID_0105_Z_0240.tif', 'ID_0106_Z_0130.tif', 'ID_0107_Z_0062.tif', 'ID_0108_Z_0259.tif', 'ID_0109_Z_0134.tif', 'ID_0110_Z_0066.tif', 'ID_0111_Z_0078.tif', 'ID_0112_Z_0085.tif', 'ID_0113_Z_0090.tif', 'ID_0114_Z_0078.tif', 'ID_0115_Z_0060.tif', 'ID_0116_Z_0116.tif', 'ID_0117_Z_0235.tif', 'ID_0118_Z_0206.tif', 'ID_0119_Z_0063.tif', 'ID_0120_Z_0123.tif', 'ID_0121_Z_0245.tif', 'ID_0122_Z_0066.tif', 'ID_0123_Z_0073.tif', 'ID_0124_Z_0066.tif', 'ID_0125_Z_0119.tif', 'ID_0126_Z_0139.tif', 'ID_0127_Z_0064.tif', 'ID_0128_Z_0130.tif', 'ID_0129_Z_0104.tif', 'ID_0130_Z_0140.tif', 'ID_0131_Z_0097.tif', 'ID_0132_Z_0069.tif', 'ID_0133_Z_0070.tif', 'ID_0134_Z_0137.tif', 'ID_0135_Z_0066.tif', 'ID_0136_Z_0122.tif', 'ID_0137_Z_0155.tif', 'ID_0138_Z_0063.tif', 'ID_0139_Z_0056.tif', 'ID_0140_Z_0230.tif', 'ID_0141_Z_0128.tif', 'ID_0142_Z_0145.tif', 'ID_0143_Z_0124.tif', 'ID_0144_Z_0224.tif', 'ID_0145_Z_0059.tif', 'ID_0146_Z_0122.tif', 'ID_0147_Z_0051.tif', 'ID_0148_Z_0254.tif', 'ID_0149_Z_0269.tif', 'ID_0150_Z_0090.tif', 'ID_0151_Z_0140.tif', 'ID_0152_Z_0133.tif', 'ID_0153_Z_0065.tif', 'ID_0154_Z_0070.tif', 'ID_0155_Z_0130.tif', 'ID_0156_Z_0099.tif', 'ID_0157_Z_0070.tif', 'ID_0158_Z_0164.tif', 'ID_0159_Z_0104.tif', 'ID_0160_Z_0140.tif', 'ID_0161_Z_0075.tif', 'ID_0162_Z_0091.tif', 'ID_0163_Z_0138.tif', 'ID_0164_Z_0066.tif', 'ID_0165_Z_0145.tif', 'ID_0166_Z_0072.tif', 'ID_0167_Z_0128.tif', 'ID_0168_Z_0130.tif', 'ID_0169_Z_0066.tif', 'ID_0170_Z_0066.tif', 'ID_0171_Z_0184.tif', 'ID_0172_Z_0098.tif', 'ID_0173_Z_0110.tif', 'ID_0174_Z_0054.tif', 'ID_0175_Z_0165.tif', 'ID_0176_Z_0162.tif', 'ID_0177_Z_0163.tif', 'ID_0178_Z_0127.tif', 'ID_0179_Z_0130.tif', 'ID_0180_Z_0086.tif', 'ID_0181_Z_0122.tif', 'ID_0182_Z_0060.tif', 'ID_0183_Z_0242.tif', 'ID_0184_Z_0089.tif', 'ID_0185_Z_0131.tif', 'ID_0186_Z_0102.tif', 'ID_0187_Z_0145.tif', 'ID_0188_Z_0137.tif', 'ID_0189_Z_0132.tif', 'ID_0190_Z_0070.tif', 'ID_0191_Z_0140.tif', 'ID_0192_Z_0064.tif', 'ID_0193_Z_0060.tif', 'ID_0194_Z_0120.tif', 'ID_0195_Z_0062.tif', 'ID_0196_Z_0259.tif', 'ID_0197_Z_0123.tif', 'ID_0198_Z_0120.tif', 'ID_0199_Z_0119.tif', 'ID_0200_Z_0125.tif', 'ID_0201_Z_0241.tif', 'ID_0202_Z_0098.tif', 'ID_0203_Z_0079.tif', 'ID_0204_Z_0066.tif', 'ID_0205_Z_0066.tif', 'ID_0206_Z_0062.tif', 'ID_0207_Z_0160.tif', 'ID_0208_Z_0063.tif', 'ID_0209_Z_0267.tif', 'ID_0210_Z_0140.tif', 'ID_0211_Z_0140.tif', 'ID_0212_Z_0064.tif', 'ID_0213_Z_0088.tif', 'ID_0214_Z_0120.tif', 'ID_0215_Z_0238.tif', 'ID_0216_Z_0057.tif', 'ID_0217_Z_0078.tif', 'ID_0218_Z_0231.tif', 'ID_0219_Z_0222.tif', 'ID_0220_Z_0066.tif', 'ID_0221_Z_0081.tif', 'ID_0222_Z_0122.tif', 'ID_0223_Z_0214.tif', 'ID_0224_Z_0210.tif', 'ID_0225_Z_0069.tif', 'ID_0226_Z_0066.tif', 'ID_0227_Z_0181.tif', 'ID_0228_Z_0097.tif', 'ID_0229_Z_0060.tif', 'ID_0230_Z_0242.tif', 'ID_0231_Z_0140.tif', 'ID_0232_Z_0063.tif', 'ID_0233_Z_0064.tif', 'ID_0234_Z_0096.tif', 'ID_0235_Z_0058.tif', 'ID_0236_Z_0122.tif', 'ID_0237_Z_0061.tif', 'ID_0238_Z_0253.tif', 'ID_0239_Z_0365.tif', 'ID_0240_Z_0066.tif', 'ID_0241_Z_0124.tif', 'ID_0242_Z_0123.tif', 'ID_0243_Z_0056.tif', 'ID_0244_Z_0184.tif', 'ID_0245_Z_0318.tif', 'ID_0246_Z_0228.tif', 'ID_0247_Z_0070.tif', 'ID_0248_Z_0062.tif', 'ID_0249_Z_0070.tif', 'ID_0250_Z_0070.tif', 'ID_0251_Z_0125.tif', 'ID_0252_Z_0064.tif', 'ID_0253_Z_0238.tif', 'ID_0254_Z_0075.tif', 'ID_0255_Z_0061.tif', 'ID_0256_Z_0062.tif', 'ID_0257_Z_0071.tif', 'ID_0258_Z_0072.tif', 'ID_0259_Z_0073.tif', 'ID_0260_Z_0148.tif', 'ID_0261_Z_0238.tif', 'ID_0262_Z_0064.tif', 'ID_0263_Z_0093.tif', 'ID_0264_Z_0080.tif', 'ID_0265_Z_0063.tif', 'ID_0266_Z_0202.tif']\n"
     ]
    }
   ],
   "source": [
    "print(all_images)\n"
   ]
  },
  {
   "cell_type": "code",
   "execution_count": 20,
   "metadata": {},
   "outputs": [],
   "source": [
    "x_data = np.empty((len(all_images), IMG_HEIGHT, IMG_WIDTH), dtype='float32')"
   ]
  },
  {
   "cell_type": "code",
   "execution_count": 21,
   "metadata": {},
   "outputs": [],
   "source": [
    "for i, name in enumerate(all_images):\n",
    "    im = cv2.imread(IMAGE_LIB + name, cv2.IMREAD_UNCHANGED).astype(\"int16\").astype('float32')\n",
    "    im = cv2.resize(im, dsize=(IMG_WIDTH, IMG_HEIGHT), interpolation=cv2.INTER_LANCZOS4)\n",
    "    im = (im - np.min(im)) / (np.max(im) - np.min(im))\n",
    "    x_data[i] = im"
   ]
  },
  {
   "cell_type": "code",
   "execution_count": 22,
   "metadata": {},
   "outputs": [],
   "source": [
    "y_data = np.empty((len(all_images), IMG_HEIGHT, IMG_WIDTH), dtype='float32')\n",
    "for i, name in enumerate(all_images):\n",
    "    im = cv2.imread(MASK_LIB + name, cv2.IMREAD_UNCHANGED).astype('float32')/255.\n",
    "    im = cv2.resize(im, dsize=(IMG_WIDTH, IMG_HEIGHT), interpolation=cv2.INTER_NEAREST)\n",
    "    y_data[i] = im"
   ]
  },
  {
   "cell_type": "code",
   "execution_count": 23,
   "metadata": {},
   "outputs": [
    {
     "data": {
      "image/png": "[encoded data removed]",
      "text/plain": [
       "<Figure size 576x288 with 2 Axes>"
      ]
     },
     "metadata": {
      "needs_background": "light"
     },
     "output_type": "display_data"
    }
   ],
   "source": [
    "fig, ax = plt.subplots(1,2, figsize = (8,4))\n",
    "ax[0].imshow(x_data[12], cmap='gray')\n",
    "ax[1].imshow(y_data[12], cmap='gray')\n",
    "plt.show()"
   ]
  },
  {
   "cell_type": "code",
   "execution_count": 24,
   "metadata": {},
   "outputs": [],
   "source": [
    "x_data = x_data[:,:,:,np.newaxis]\n",
    "y_data = y_data[:,:,:,np.newaxis]\n",
    "x_train, x_val, y_train, y_val = train_test_split(x_data, y_data, test_size = 0.5)"
   ]
  },
  {
   "cell_type": "code",
   "execution_count": 25,
   "metadata": {},
   "outputs": [],
   "source": [
    "def dice_coef(y_true, y_pred):\n",
    "    y_true_f = K.flatten(y_true)\n",
    "    y_pred_f = K.flatten(y_pred)\n",
    "    intersection = K.sum(y_true_f * y_pred_f)\n",
    "    return (2. * intersection + K.epsilon()) / (K.sum(y_true_f) + K.sum(y_pred_f) + K.epsilon())"
   ]
  },
  {
   "cell_type": "code",
   "execution_count": 26,
   "metadata": {},
   "outputs": [
    {
     "name": "stderr",
     "output_type": "stream",
     "text": [
      "2022-04-27 10:21:12.142936: W tensorflow/stream_executor/platform/default/dso_loader.cc:64] Could not load dynamic library 'libcuda.so.1'; dlerror: libcuda.so.1: cannot open shared object file: No such file or directory; LD_LIBRARY_PATH: /opt/conda/lib/python3.9/site-packages/cv2/../../lib64:\n",
      "2022-04-27 10:21:12.142960: W tensorflow/stream_executor/cuda/cuda_driver.cc:269] failed call to cuInit: UNKNOWN ERROR (303)\n",
      "2022-04-27 10:21:12.142976: I tensorflow/stream_executor/cuda/cuda_diagnostics.cc:156] kernel driver does not appear to be running on this host (jupyter-tema): /proc/driver/nvidia/version does not exist\n",
      "2022-04-27 10:21:12.143120: I tensorflow/core/platform/cpu_feature_guard.cc:142] This TensorFlow binary is optimized with oneAPI Deep Neural Network Library (oneDNN) to use the following CPU instructions in performance-critical operations:  SSE4.1 SSE4.2 AVX AVX2 FMA\n",
      "To enable them in other operations, rebuild TensorFlow with the appropriate compiler flags.\n"
     ]
    }
   ],
   "source": [
    "input_layer = Input(shape=x_train.shape[1:])\n",
    "c1 = Conv2D(filters=8, kernel_size=(3,3), activation='relu', padding='same')(input_layer)\n",
    "l = MaxPool2D(strides=(2,2))(c1)\n",
    "c2 = Conv2D(filters=16, kernel_size=(3,3), activation='relu', padding='same')(l)\n",
    "l = MaxPool2D(strides=(2,2))(c2)\n",
    "c3 = Conv2D(filters=32, kernel_size=(3,3), activation='relu', padding='same')(l)\n",
    "l = MaxPool2D(strides=(2,2))(c3)\n",
    "c4 = Conv2D(filters=32, kernel_size=(1,1), activation='relu', padding='same')(l)\n",
    "l = concatenate([UpSampling2D(size=(2,2))(c4), c3], axis=-1)\n",
    "l = Conv2D(filters=32, kernel_size=(2,2), activation='relu', padding='same')(l)\n",
    "l = concatenate([UpSampling2D(size=(2,2))(l), c2], axis=-1)\n",
    "l = Conv2D(filters=24, kernel_size=(2,2), activation='relu', padding='same')(l)\n",
    "l = concatenate([UpSampling2D(size=(2,2))(l), c1], axis=-1)\n",
    "l = Conv2D(filters=16, kernel_size=(2,2), activation='relu', padding='same')(l)\n",
    "l = Conv2D(filters=64, kernel_size=(1,1), activation='relu')(l)\n",
    "l = Dropout(0.5)(l)\n",
    "output_layer = Conv2D(filters=1, kernel_size=(1,1), activation='sigmoid')(l)\n",
    "                                                         \n",
    "model = Model(input_layer, output_layer)\n"
   ]
  },
  {
   "cell_type": "code",
   "execution_count": 27,
   "metadata": {},
   "outputs": [
    {
     "name": "stdout",
     "output_type": "stream",
     "text": [
      "Model: \"model\"\n",
      "__________________________________________________________________________________________________\n",
      "Layer (type)                    Output Shape         Param #     Connected to                     \n",
      "==================================================================================================\n",
      "input_1 (InputLayer)            [(None, 32, 32, 1)]  0                                            \n",
      "__________________________________________________________________________________________________\n",
      "conv2d (Conv2D)                 (None, 32, 32, 8)    80          input_1[0][0]                    \n",
      "__________________________________________________________________________________________________\n",
      "max_pooling2d (MaxPooling2D)    (None, 16, 16, 8)    0           conv2d[0][0]                     \n",
      "__________________________________________________________________________________________________\n",
      "conv2d_1 (Conv2D)               (None, 16, 16, 16)   1168        max_pooling2d[0][0]              \n",
      "__________________________________________________________________________________________________\n",
      "max_pooling2d_1 (MaxPooling2D)  (None, 8, 8, 16)     0           conv2d_1[0][0]                   \n",
      "__________________________________________________________________________________________________\n",
      "conv2d_2 (Conv2D)               (None, 8, 8, 32)     4640        max_pooling2d_1[0][0]            \n",
      "__________________________________________________________________________________________________\n",
      "max_pooling2d_2 (MaxPooling2D)  (None, 4, 4, 32)     0           conv2d_2[0][0]                   \n",
      "__________________________________________________________________________________________________\n",
      "conv2d_3 (Conv2D)               (None, 4, 4, 32)     1056        max_pooling2d_2[0][0]            \n",
      "__________________________________________________________________________________________________\n",
      "up_sampling2d (UpSampling2D)    (None, 8, 8, 32)     0           conv2d_3[0][0]                   \n",
      "__________________________________________________________________________________________________\n",
      "concatenate (Concatenate)       (None, 8, 8, 64)     0           up_sampling2d[0][0]              \n",
      "                                                                 conv2d_2[0][0]                   \n",
      "__________________________________________________________________________________________________\n",
      "conv2d_4 (Conv2D)               (None, 8, 8, 32)     8224        concatenate[0][0]                \n",
      "__________________________________________________________________________________________________\n",
      "up_sampling2d_1 (UpSampling2D)  (None, 16, 16, 32)   0           conv2d_4[0][0]                   \n",
      "__________________________________________________________________________________________________\n",
      "concatenate_1 (Concatenate)     (None, 16, 16, 48)   0           up_sampling2d_1[0][0]            \n",
      "                                                                 conv2d_1[0][0]                   \n",
      "__________________________________________________________________________________________________\n",
      "conv2d_5 (Conv2D)               (None, 16, 16, 24)   4632        concatenate_1[0][0]              \n",
      "__________________________________________________________________________________________________\n",
      "up_sampling2d_2 (UpSampling2D)  (None, 32, 32, 24)   0           conv2d_5[0][0]                   \n",
      "__________________________________________________________________________________________________\n",
      "concatenate_2 (Concatenate)     (None, 32, 32, 32)   0           up_sampling2d_2[0][0]            \n",
      "                                                                 conv2d[0][0]                     \n",
      "__________________________________________________________________________________________________\n",
      "conv2d_6 (Conv2D)               (None, 32, 32, 16)   2064        concatenate_2[0][0]              \n",
      "__________________________________________________________________________________________________\n",
      "conv2d_7 (Conv2D)               (None, 32, 32, 64)   1088        conv2d_6[0][0]                   \n",
      "__________________________________________________________________________________________________\n",
      "dropout (Dropout)               (None, 32, 32, 64)   0           conv2d_7[0][0]                   \n",
      "__________________________________________________________________________________________________\n",
      "conv2d_8 (Conv2D)               (None, 32, 32, 1)    65          dropout[0][0]                    \n",
      "==================================================================================================\n",
      "Total params: 23,017\n",
      "Trainable params: 23,017\n",
      "Non-trainable params: 0\n",
      "__________________________________________________________________________________________________\n"
     ]
    }
   ],
   "source": [
    " model.summary()"
   ]
  },
  {
   "cell_type": "code",
   "execution_count": 28,
   "metadata": {},
   "outputs": [],
   "source": [
    "def my_generator(x_train, y_train, batch_size):\n",
    "    data_generator = ImageDataGenerator(\n",
    "            width_shift_range=0.1,\n",
    "            height_shift_range=0.1,\n",
    "            rotation_range=10,\n",
    "            zoom_range=0.1).flow(x_train, x_train, batch_size, seed=SEED)\n",
    "    mask_generator = ImageDataGenerator(\n",
    "            width_shift_range=0.1,\n",
    "            height_shift_range=0.1,\n",
    "            rotation_range=10,\n",
    "            zoom_range=0.1).flow(y_train, y_train, batch_size, seed=SEED)\n",
    "    while True:\n",
    "        x_batch, _ = data_generator.next()\n",
    "        y_batch, _ = mask_generator.next()\n",
    "        yield x_batch, y_batch"
   ]
  },
  {
   "cell_type": "code",
   "execution_count": 29,
   "metadata": {},
   "outputs": [
    {
     "data": {
      "image/png": "[encoded data removed]",
      "text/plain": [
       "<Figure size 288x288 with 8 Axes>"
      ]
     },
     "metadata": {
      "needs_background": "light"
     },
     "output_type": "display_data"
    }
   ],
   "source": [
    "image_batch, mask_batch = next(my_generator(x_train, y_train, 8))\n",
    "fix, ax = plt.subplots(4,2, figsize=(4,4))\n",
    "for i in range(4):\n",
    "    ax[i,0].imshow(image_batch[i,:,:,0], cmap='gray')\n",
    "    ax[i,1].imshow(mask_batch[i,:,:,0], cmap ='gray')\n",
    "plt.show()"
   ]
  },
  {
   "cell_type": "code",
   "execution_count": 31,
   "metadata": {},
   "outputs": [],
   "source": [
    "model.compile( loss='binary_crossentropy', metrics=[dice_coef])"
   ]
  },
  {
   "cell_type": "code",
   "execution_count": 32,
   "metadata": {},
   "outputs": [],
   "source": [
    "weight_saver = ModelCheckpoint('lung.h5', monitor='val_dice_coef', \n",
    "                                              save_best_only=True, save_weights_only=True)\n",
    "annealer = LearningRateScheduler(lambda x: 1e-3 * 0.8 ** x)"
   ]
  },
  {
   "cell_type": "code",
   "execution_count": 33,
   "metadata": {},
   "outputs": [
    {
     "name": "stderr",
     "output_type": "stream",
     "text": [
      "2022-04-27 10:21:56.101590: I tensorflow/compiler/mlir/mlir_graph_optimization_pass.cc:185] None of the MLIR Optimization Passes are enabled (registered 2)\n"
     ]
    },
    {
     "name": "stdout",
     "output_type": "stream",
     "text": [
      "Epoch 1/10\n",
      "200/200 - 3s - loss: 0.3190 - dice_coef: 0.5666 - val_loss: 0.1660 - val_dice_coef: 0.7567\n",
      "Epoch 2/10\n",
      "200/200 - 2s - loss: 0.1830 - dice_coef: 0.7715 - val_loss: 0.1323 - val_dice_coef: 0.8299\n",
      "Epoch 3/10\n",
      "200/200 - 2s - loss: 0.1624 - dice_coef: 0.8045 - val_loss: 0.1105 - val_dice_coef: 0.8515\n",
      "Epoch 4/10\n",
      "200/200 - 2s - loss: 0.1513 - dice_coef: 0.8204 - val_loss: 0.1006 - val_dice_coef: 0.8621\n",
      "Epoch 5/10\n",
      "200/200 - 2s - loss: 0.1428 - dice_coef: 0.8315 - val_loss: 0.1006 - val_dice_coef: 0.8724\n",
      "Epoch 6/10\n",
      "200/200 - 2s - loss: 0.1367 - dice_coef: 0.8387 - val_loss: 0.0996 - val_dice_coef: 0.8723\n",
      "Epoch 7/10\n",
      "200/200 - 2s - loss: 0.1328 - dice_coef: 0.8426 - val_loss: 0.0902 - val_dice_coef: 0.8738\n",
      "Epoch 8/10\n",
      "200/200 - 2s - loss: 0.1298 - dice_coef: 0.8454 - val_loss: 0.0917 - val_dice_coef: 0.8782\n",
      "Epoch 9/10\n",
      "200/200 - 2s - loss: 0.1280 - dice_coef: 0.8478 - val_loss: 0.0874 - val_dice_coef: 0.8834\n",
      "Epoch 10/10\n",
      "200/200 - 2s - loss: 0.1276 - dice_coef: 0.8487 - val_loss: 0.0876 - val_dice_coef: 0.8820\n"
     ]
    }
   ],
   "source": [
    "hist = model.fit(my_generator(x_train, y_train, 8),\n",
    "                           steps_per_epoch = 200,\n",
    "                           validation_data = (x_val, y_val),\n",
    "                           epochs=10, verbose=2,\n",
    "                           callbacks = [weight_saver, annealer])"
   ]
  },
  {
   "cell_type": "code",
   "execution_count": 26,
   "metadata": {},
   "outputs": [],
   "source": [
    "model.load_weights('lung.h5')"
   ]
  },
  {
   "cell_type": "code",
   "execution_count": 27,
   "metadata": {},
   "outputs": [
    {
     "data": {
      "image/png": "[encoded data removed]",
      "text/plain": [
       "<Figure size 432x288 with 1 Axes>"
      ]
     },
     "metadata": {
      "needs_background": "light"
     },
     "output_type": "display_data"
    },
    {
     "data": {
      "image/png": "[encoded data removed]",
      "text/plain": [
       "<Figure size 432x288 with 1 Axes>"
      ]
     },
     "metadata": {
      "needs_background": "light"
     },
     "output_type": "display_data"
    }
   ],
   "source": [
    "plt.plot(hist.history['loss'], color='b')\n",
    "plt.plot(hist.history['val_loss'], color='r')\n",
    "plt.show()\n",
    "plt.plot(hist.history['dice_coef'], color='b')\n",
    "plt.plot(hist.history['val_dice_coef'], color='r')\n",
    "plt.show()"
   ]
  },
  {
   "cell_type": "code",
   "execution_count": 28,
   "metadata": {},
   "outputs": [
    {
     "data": {
      "text/plain": [
       "<matplotlib.image.AxesImage at 0x7fa108244a30>"
      ]
     },
     "execution_count": 28,
     "metadata": {},
     "output_type": "execute_result"
    },
    {
     "data": {
      "image/png": "[encoded data removed]",
      "text/plain": [
       "<Figure size 432x288 with 1 Axes>"
      ]
     },
     "metadata": {
      "needs_background": "light"
     },
     "output_type": "display_data"
    }
   ],
   "source": [
    "plt.imshow(model.predict(x_train[5].reshape(1,IMG_HEIGHT, IMG_WIDTH, 1))[0,:,:,0], cmap='gray')"
   ]
  },
  {
   "cell_type": "code",
   "execution_count": 29,
   "metadata": {},
   "outputs": [
    {
     "data": {
      "text/plain": [
       "<matplotlib.image.AxesImage at 0x7fa111dcf490>"
      ]
     },
     "execution_count": 29,
     "metadata": {},
     "output_type": "execute_result"
    },
    {
     "data": {
      "image/png": "[encoded data removed]",
      "text/plain": [
       "<Figure size 864x432 with 3 Axes>"
      ]
     },
     "metadata": {
      "needs_background": "light"
     },
     "output_type": "display_data"
    }
   ],
   "source": [
    "y_hat = model.predict(x_val)\n",
    "fig, ax = plt.subplots(1,3,figsize=(12,6))\n",
    "ax[0].imshow(x_val[0,:,:,0], cmap='gray')\n",
    "ax[1].imshow(y_val[0,:,:,0])\n",
    "ax[2].imshow(y_hat[0,:,:,0])"
   ]
  },
  {
   "cell_type": "code",
   "execution_count": 30,
   "metadata": {},
   "outputs": [
    {
     "data": {
      "text/plain": [
       "134"
      ]
     },
     "execution_count": 30,
     "metadata": {},
     "output_type": "execute_result"
    }
   ],
   "source": [
    "len(x_val)\n"
   ]
  },
  {
   "cell_type": "code",
   "execution_count": 31,
   "metadata": {},
   "outputs": [
    {
     "data": {
      "text/plain": [
       "<matplotlib.image.AxesImage at 0x7fa1316df3d0>"
      ]
     },
     "execution_count": 31,
     "metadata": {},
     "output_type": "execute_result"
    },
    {
     "data": {
      "image/png": "[encoded data removed]",
      "text/plain": [
       "<Figure size 864x432 with 3 Axes>"
      ]
     },
     "metadata": {
      "needs_background": "light"
     },
     "output_type": "display_data"
    }
   ],
   "source": [
    "fig, ax = plt.subplots(1,3,figsize=(12,6))\n",
    "ax[0].imshow(x_val[12,:,:,0], cmap='gray')\n",
    "ax[1].imshow(y_val[12,:,:,0])\n",
    "ax[2].imshow(y_hat[12,:,:,0])\n"
   ]
  },
  {
   "cell_type": "code",
   "execution_count": 32,
   "metadata": {},
   "outputs": [
    {
     "data": {
      "text/plain": [
       "True"
      ]
     },
     "execution_count": 32,
     "metadata": {},
     "output_type": "execute_result"
    }
   ],
   "source": [
    "cv2.imwrite('prediction_12.png',y_hat[12,:,:,0])"
   ]
  },
  {
   "cell_type": "code",
   "execution_count": 33,
   "metadata": {},
   "outputs": [],
   "source": [
    "y_hat_new = 255*y_hat[12,:,:,0]"
   ]
  },
  {
   "cell_type": "code",
   "execution_count": 34,
   "metadata": {},
   "outputs": [
    {
     "data": {
      "text/plain": [
       "array([[4.07490134e-02, 5.84636629e-02, 7.42252171e-02, ...,\n",
       "        3.21569480e-03, 9.30646062e-02, 4.39393222e-01],\n",
       "       [4.13569808e-02, 6.41025603e-02, 1.02054924e-01, ...,\n",
       "        5.55640273e-03, 1.29717439e-01, 4.99794781e-01],\n",
       "       [3.80283594e-02, 6.59872591e-02, 1.44255459e-01, ...,\n",
       "        8.79370701e-03, 1.45144612e-01, 5.64809322e-01],\n",
       "       ...,\n",
       "       [6.93766773e-02, 9.44629312e-02, 1.36572272e-01, ...,\n",
       "        1.38464570e-01, 8.66756320e-01, 3.12448120e+00],\n",
       "       [1.89571828e-01, 2.35891342e-01, 3.18369716e-01, ...,\n",
       "        5.71747720e-01, 2.43617082e+00, 7.06507492e+00],\n",
       "       [2.02293539e+00, 2.03134823e+00, 2.26333332e+00, ...,\n",
       "        5.15218163e+00, 1.30694447e+01, 2.52258892e+01]], dtype=float32)"
      ]
     },
     "execution_count": 34,
     "metadata": {},
     "output_type": "execute_result"
    }
   ],
   "source": [
    "y_hat_new"
   ]
  },
  {
   "cell_type": "code",
   "execution_count": 35,
   "metadata": {},
   "outputs": [
    {
     "data": {
      "text/plain": [
       "array([[ 0,  0,  0, ...,  0,  0,  0],\n",
       "       [ 0,  0,  0, ...,  0,  0,  0],\n",
       "       [ 0,  0,  0, ...,  0,  0,  0],\n",
       "       ...,\n",
       "       [ 0,  0,  0, ...,  0,  0,  3],\n",
       "       [ 0,  0,  0, ...,  0,  2,  7],\n",
       "       [ 2,  2,  2, ...,  5, 13, 25]])"
      ]
     },
     "execution_count": 35,
     "metadata": {},
     "output_type": "execute_result"
    }
   ],
   "source": [
    "y_hat_new.astype(int)"
   ]
  },
  {
   "cell_type": "code",
   "execution_count": 36,
   "metadata": {},
   "outputs": [
    {
     "data": {
      "text/plain": [
       "True"
      ]
     },
     "execution_count": 36,
     "metadata": {},
     "output_type": "execute_result"
    }
   ],
   "source": [
    "cv2.imwrite('prediction_12.png',y_hat_new)"
   ]
  },
  {
   "cell_type": "code",
   "execution_count": null,
   "metadata": {},
   "outputs": [],
   "source": []
  }
 ],
 "metadata": {
  "kernelspec": {
   "display_name": "Python 3",
   "language": "python",
   "name": "python3"
  },
  "language_info": {
   "codemirror_mode": {
    "name": "ipython",
    "version": 3
   },
   "file_extension": ".py",
   "mimetype": "text/x-python",
   "name": "python",
   "nbconvert_exporter": "python",
   "pygments_lexer": "ipython3",
   "version": "3.7.10"
  }
 },
 "nbformat": 4,
 "nbformat_minor": 4
}
